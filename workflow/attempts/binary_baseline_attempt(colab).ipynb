{
 "cells": [
  {
   "cell_type": "code",
   "execution_count": 1,
   "metadata": {
    "colab": {
     "base_uri": "https://localhost:8080/"
    },
    "id": "-pwN7X5sVgjL",
    "outputId": "48acd91b-0223-4a88-b869-b74de7a26b5b"
   },
   "outputs": [
    {
     "name": "stdout",
     "output_type": "stream",
     "text": [
      "Sat Jun  5 01:46:25 2021       \n",
      "+-----------------------------------------------------------------------------+\n",
      "| NVIDIA-SMI 465.27       Driver Version: 460.32.03    CUDA Version: 11.2     |\n",
      "|-------------------------------+----------------------+----------------------+\n",
      "| GPU  Name        Persistence-M| Bus-Id        Disp.A | Volatile Uncorr. ECC |\n",
      "| Fan  Temp  Perf  Pwr:Usage/Cap|         Memory-Usage | GPU-Util  Compute M. |\n",
      "|                               |                      |               MIG M. |\n",
      "|===============================+======================+======================|\n",
      "|   0  Tesla T4            Off  | 00000000:00:04.0 Off |                    0 |\n",
      "| N/A   75C    P8    11W /  70W |      0MiB / 15109MiB |      0%      Default |\n",
      "|                               |                      |                  N/A |\n",
      "+-------------------------------+----------------------+----------------------+\n",
      "                                                                               \n",
      "+-----------------------------------------------------------------------------+\n",
      "| Processes:                                                                  |\n",
      "|  GPU   GI   CI        PID   Type   Process name                  GPU Memory |\n",
      "|        ID   ID                                                   Usage      |\n",
      "|=============================================================================|\n",
      "|  No running processes found                                                 |\n",
      "+-----------------------------------------------------------------------------+\n"
     ]
    }
   ],
   "source": [
    "!nvidia-smi"
   ]
  },
  {
   "cell_type": "code",
   "execution_count": 2,
   "metadata": {
    "id": "Pi-Swpjwadao"
   },
   "outputs": [],
   "source": [
    "import pandas as pd\n",
    "import numpy as np\n",
    "import matplotlib.pyplot as plt\n",
    "%matplotlib inline\n",
    "import seaborn as sns\n",
    "import os, shutil\n",
    "from glob import glob"
   ]
  },
  {
   "cell_type": "code",
   "execution_count": 3,
   "metadata": {
    "colab": {
     "base_uri": "https://localhost:8080/"
    },
    "id": "jXCwu9HpnsZt",
    "outputId": "e50c6cf2-3109-4653-be95-1f48d03d428b"
   },
   "outputs": [
    {
     "name": "stdout",
     "output_type": "stream",
     "text": [
      "Mounted at /content/grive\n"
     ]
    }
   ],
   "source": [
    "from google.colab import drive\n",
    "drive.mount('/content/grive')"
   ]
  },
  {
   "cell_type": "code",
   "execution_count": 4,
   "metadata": {
    "id": "tLEPFkckQr0j"
   },
   "outputs": [],
   "source": [
    "import cv2\n",
    "from keras.preprocessing.image import ImageDataGenerator"
   ]
  },
  {
   "cell_type": "markdown",
   "metadata": {
    "id": "MveHtQgCRK2h"
   },
   "source": [
    "# Preprocessing images"
   ]
  },
  {
   "cell_type": "code",
   "execution_count": 5,
   "metadata": {
    "id": "Ebmh-QwbQy8T"
   },
   "outputs": [],
   "source": [
    "image_gen = ImageDataGenerator(rescale=1./255)"
   ]
  },
  {
   "cell_type": "code",
   "execution_count": 6,
   "metadata": {
    "id": "duBQHPRllXY2"
   },
   "outputs": [],
   "source": [
    "train_dir = '/content/grive/MyDrive/Face Mask Dataset/Train'\n",
    "val_dir = '/content/grive/MyDrive/Face Mask Dataset/Validation'\n",
    "test_dir = '/content/grive/MyDrive/Face Mask Dataset/Test'"
   ]
  },
  {
   "cell_type": "code",
   "execution_count": 7,
   "metadata": {
    "colab": {
     "base_uri": "https://localhost:8080/"
    },
    "id": "upJgGdKcpU6Q",
    "outputId": "c7512b68-cd27-4dda-fc2d-e3150668f0a7"
   },
   "outputs": [
    {
     "name": "stdout",
     "output_type": "stream",
     "text": [
      "Found 10000 images belonging to 2 classes.\n",
      "Found 800 images belonging to 2 classes.\n",
      "Found 992 images belonging to 2 classes.\n"
     ]
    }
   ],
   "source": [
    "batch_size = 80\n",
    "train_generator = image_gen.flow_from_directory(train_dir,\n",
    "                                          target_size=(150,150),\n",
    "                                          batch_size=batch_size,\n",
    "                                          seed=42,\n",
    "                                          shuffle=False,\n",
    "                                          class_mode='binary')\n",
    "val_generator = image_gen.flow_from_directory(val_dir,\n",
    "                                        target_size=(150,150),\n",
    "                                        batch_size=batch_size,\n",
    "                                        seed=42,\n",
    "                                        shuffle=False,\n",
    "                                        class_mode='binary')\n",
    "test_generator = image_gen.flow_from_directory(test_dir,\n",
    "                                        target_size=(150,150),\n",
    "                                        batch_size=batch_size,\n",
    "                                        seed=42,\n",
    "                                        shuffle=False,\n",
    "                                        class_mode='binary')"
   ]
  },
  {
   "cell_type": "markdown",
   "metadata": {
    "id": "V8hMONqtRSdP"
   },
   "source": [
    "# Building CNN Model"
   ]
  },
  {
   "cell_type": "code",
   "execution_count": 8,
   "metadata": {
    "id": "6Hiyz2Skr8Fp"
   },
   "outputs": [],
   "source": [
    "from keras.models import Sequential\n",
    "from keras.layers import Dense, Conv2D, MaxPool2D, Flatten, Dropout\n",
    "from keras import optimizers"
   ]
  },
  {
   "cell_type": "code",
   "execution_count": 9,
   "metadata": {
    "id": "O_5EsYexsIWa"
   },
   "outputs": [],
   "source": [
    "model = Sequential()\n",
    "\n",
    "model.add(Conv2D(32, (3,3),input_shape=(150,150,3),activation='relu'))\n",
    "model.add(MaxPool2D((2,2)))\n",
    "\n",
    "model.add(Conv2D(64, (3,3),activation='relu'))\n",
    "model.add(MaxPool2D((2,2)))\n",
    "\n",
    "model.add(Conv2D(128, (3,3),activation='relu'))\n",
    "model.add(MaxPool2D((2,2)))\n",
    "\n",
    "model.add(Conv2D(128, (3,3),activation='relu'))\n",
    "model.add(MaxPool2D((2,2)))\n",
    "\n",
    "model.add(Flatten())\n",
    "model.add(Dense(512, activation='relu'))\n",
    "model.add(Dense(1, activation='sigmoid'))\n",
    "\n",
    "model.compile(loss='binary_crossentropy',\n",
    "              optimizer='adam',\n",
    "              metrics=['accuracy'])"
   ]
  },
  {
   "cell_type": "code",
   "execution_count": 10,
   "metadata": {
    "colab": {
     "base_uri": "https://localhost:8080/"
    },
    "id": "CyuYiL_-sM5i",
    "outputId": "d0461b74-66b3-484d-fd1f-1178a167cdfb"
   },
   "outputs": [
    {
     "name": "stdout",
     "output_type": "stream",
     "text": [
      "Model: \"sequential\"\n",
      "_________________________________________________________________\n",
      "Layer (type)                 Output Shape              Param #   \n",
      "=================================================================\n",
      "conv2d (Conv2D)              (None, 148, 148, 32)      896       \n",
      "_________________________________________________________________\n",
      "max_pooling2d (MaxPooling2D) (None, 74, 74, 32)        0         \n",
      "_________________________________________________________________\n",
      "conv2d_1 (Conv2D)            (None, 72, 72, 64)        18496     \n",
      "_________________________________________________________________\n",
      "max_pooling2d_1 (MaxPooling2 (None, 36, 36, 64)        0         \n",
      "_________________________________________________________________\n",
      "conv2d_2 (Conv2D)            (None, 34, 34, 128)       73856     \n",
      "_________________________________________________________________\n",
      "max_pooling2d_2 (MaxPooling2 (None, 17, 17, 128)       0         \n",
      "_________________________________________________________________\n",
      "conv2d_3 (Conv2D)            (None, 15, 15, 128)       147584    \n",
      "_________________________________________________________________\n",
      "max_pooling2d_3 (MaxPooling2 (None, 7, 7, 128)         0         \n",
      "_________________________________________________________________\n",
      "flatten (Flatten)            (None, 6272)              0         \n",
      "_________________________________________________________________\n",
      "dense (Dense)                (None, 512)               3211776   \n",
      "_________________________________________________________________\n",
      "dense_1 (Dense)              (None, 1)                 513       \n",
      "=================================================================\n",
      "Total params: 3,453,121\n",
      "Trainable params: 3,453,121\n",
      "Non-trainable params: 0\n",
      "_________________________________________________________________\n"
     ]
    }
   ],
   "source": [
    "model.summary()"
   ]
  },
  {
   "cell_type": "code",
   "execution_count": 11,
   "metadata": {
    "colab": {
     "base_uri": "https://localhost:8080/"
    },
    "id": "4Ii9v1YrsaZ7",
    "outputId": "1af6f4b1-8ca9-4c6a-be3e-d0da1a728d93"
   },
   "outputs": [
    {
     "name": "stderr",
     "output_type": "stream",
     "text": [
      "/usr/local/lib/python3.7/dist-packages/keras/engine/training.py:1915: UserWarning: `Model.fit_generator` is deprecated and will be removed in a future version. Please use `Model.fit`, which supports generators.\n",
      "  warnings.warn('`Model.fit_generator` is deprecated and '\n"
     ]
    },
    {
     "name": "stdout",
     "output_type": "stream",
     "text": [
      "Epoch 1/30\n",
      "100/100 [==============================] - ETA: 0s - loss: 6.2913 - accuracy: 0.5562WARNING:tensorflow:Your input ran out of data; interrupting training. Make sure that your dataset or generator can generate at least `steps_per_epoch * epochs` batches (in this case, 100 batches). You may need to use the repeat() function when building your dataset.\n",
      "100/100 [==============================] - 38s 221ms/step - loss: 6.2579 - accuracy: 0.5562 - val_loss: 0.5273 - val_accuracy: 0.5038\n",
      "Epoch 2/30\n",
      "100/100 [==============================] - 20s 196ms/step - loss: 0.8545 - accuracy: 0.6981\n",
      "Epoch 3/30\n",
      "100/100 [==============================] - 19s 190ms/step - loss: 0.3833 - accuracy: 0.8313\n",
      "Epoch 4/30\n",
      "100/100 [==============================] - 19s 192ms/step - loss: 0.2481 - accuracy: 0.9047\n",
      "Epoch 5/30\n",
      "100/100 [==============================] - 19s 193ms/step - loss: 0.1307 - accuracy: 0.9520\n",
      "Epoch 6/30\n",
      "100/100 [==============================] - 19s 189ms/step - loss: 0.0845 - accuracy: 0.9698\n",
      "Epoch 7/30\n",
      "100/100 [==============================] - 19s 191ms/step - loss: 0.0703 - accuracy: 0.9729\n",
      "Epoch 8/30\n",
      "100/100 [==============================] - 19s 189ms/step - loss: 0.0516 - accuracy: 0.9815\n",
      "Epoch 9/30\n",
      "100/100 [==============================] - 19s 189ms/step - loss: 0.0358 - accuracy: 0.9876\n",
      "Epoch 10/30\n",
      "100/100 [==============================] - 19s 191ms/step - loss: 0.0336 - accuracy: 0.9879\n",
      "Epoch 11/30\n",
      "100/100 [==============================] - 19s 190ms/step - loss: 0.0213 - accuracy: 0.9917\n",
      "Epoch 12/30\n",
      "100/100 [==============================] - 19s 192ms/step - loss: 0.0417 - accuracy: 0.9853\n",
      "Epoch 13/30\n",
      "100/100 [==============================] - 19s 192ms/step - loss: 0.0385 - accuracy: 0.9844\n",
      "Epoch 14/30\n",
      "100/100 [==============================] - 19s 189ms/step - loss: 0.0253 - accuracy: 0.9906\n",
      "Epoch 15/30\n",
      "100/100 [==============================] - 19s 193ms/step - loss: 0.0145 - accuracy: 0.9946\n",
      "Epoch 16/30\n",
      "100/100 [==============================] - 19s 193ms/step - loss: 0.0106 - accuracy: 0.9953\n",
      "Epoch 17/30\n",
      "100/100 [==============================] - 20s 198ms/step - loss: 0.0102 - accuracy: 0.9971\n",
      "Epoch 18/30\n",
      "100/100 [==============================] - 20s 198ms/step - loss: 0.0092 - accuracy: 0.9976\n",
      "Epoch 19/30\n",
      "100/100 [==============================] - 20s 197ms/step - loss: 0.0141 - accuracy: 0.9944\n",
      "Epoch 20/30\n",
      "100/100 [==============================] - 19s 194ms/step - loss: 0.0242 - accuracy: 0.9905\n",
      "Epoch 21/30\n",
      "100/100 [==============================] - 19s 194ms/step - loss: 0.0524 - accuracy: 0.9848\n",
      "Epoch 22/30\n",
      "100/100 [==============================] - 19s 194ms/step - loss: 0.0252 - accuracy: 0.9914\n",
      "Epoch 23/30\n",
      "100/100 [==============================] - 19s 192ms/step - loss: 0.0114 - accuracy: 0.9969\n",
      "Epoch 24/30\n",
      "100/100 [==============================] - 19s 193ms/step - loss: 0.0059 - accuracy: 0.9985\n",
      "Epoch 25/30\n",
      "100/100 [==============================] - 20s 197ms/step - loss: 0.0038 - accuracy: 0.9987\n",
      "Epoch 26/30\n",
      "100/100 [==============================] - 19s 191ms/step - loss: 0.0035 - accuracy: 0.9987\n",
      "Epoch 27/30\n",
      "100/100 [==============================] - 19s 193ms/step - loss: 0.0028 - accuracy: 0.9991\n",
      "Epoch 28/30\n",
      "100/100 [==============================] - 19s 190ms/step - loss: 0.0021 - accuracy: 0.9994\n",
      "Epoch 29/30\n",
      "100/100 [==============================] - 19s 194ms/step - loss: 0.0089 - accuracy: 0.9972\n",
      "Epoch 30/30\n",
      "100/100 [==============================] - 20s 195ms/step - loss: 0.0108 - accuracy: 0.9955\n"
     ]
    }
   ],
   "source": [
    "result = model.fit_generator(\n",
    "    train_generator,\n",
    "    steps_per_epoch=100,\n",
    "    epochs=30,\n",
    "    validation_data=val_generator,\n",
    "    validation_steps=100\n",
    ")"
   ]
  },
  {
   "cell_type": "code",
   "execution_count": 12,
   "metadata": {
    "id": "kODlcWMB-pRW"
   },
   "outputs": [],
   "source": [
    "model.save('model_large_data.h5')"
   ]
  },
  {
   "cell_type": "markdown",
   "metadata": {
    "id": "4DRI-JkLSLLc"
   },
   "source": [
    "# Evaluation on model"
   ]
  },
  {
   "cell_type": "code",
   "execution_count": 13,
   "metadata": {
    "colab": {
     "base_uri": "https://localhost:8080/"
    },
    "id": "RH0W9FIpSQ6H",
    "outputId": "8dee965b-657b-47f0-e1c0-61fa0de0399d"
   },
   "outputs": [
    {
     "data": {
      "text/plain": [
       "[0.5561249852180481,\n",
       " 0.6772500276565552,\n",
       " 0.8640000224113464,\n",
       " 0.9200000166893005,\n",
       " 0.9598749876022339,\n",
       " 0.971750020980835,\n",
       " 0.9766250252723694,\n",
       " 0.9823750257492065,\n",
       " 0.987625002861023,\n",
       " 0.9906250238418579,\n",
       " 0.9913750290870667,\n",
       " 0.984000027179718,\n",
       " 0.9890000224113464,\n",
       " 0.9923750162124634,\n",
       " 0.9943749904632568,\n",
       " 0.9943749904632568,\n",
       " 0.9958750009536743,\n",
       " 0.996749997138977,\n",
       " 0.9963750243186951,\n",
       " 0.9835000038146973,\n",
       " 0.9886249899864197,\n",
       " 0.9929999709129333,\n",
       " 0.996999979019165,\n",
       " 0.9981250166893005,\n",
       " 0.9984999895095825,\n",
       " 0.9984999895095825,\n",
       " 0.9992499947547913,\n",
       " 0.9991250038146973,\n",
       " 0.9938750267028809,\n",
       " 0.9975000023841858]"
      ]
     },
     "execution_count": 13,
     "metadata": {
      "tags": []
     },
     "output_type": "execute_result"
    }
   ],
   "source": [
    "result.history['accuracy']"
   ]
  },
  {
   "cell_type": "code",
   "execution_count": 14,
   "metadata": {
    "colab": {
     "base_uri": "https://localhost:8080/",
     "height": 282
    },
    "id": "DtHMy3QJSQEn",
    "outputId": "7001d9f7-aa5d-4d91-beaf-81eb49bc6760"
   },
   "outputs": [
    {
     "data": {
      "text/plain": [
       "[<matplotlib.lines.Line2D at 0x7f810016e050>]"
      ]
     },
     "execution_count": 14,
     "metadata": {
      "tags": []
     },
     "output_type": "execute_result"
    },
    {
     "data": {
      "image/png": "[encoded data removed]",
      "text/plain": [
       "<Figure size 432x288 with 1 Axes>"
      ]
     },
     "metadata": {
      "needs_background": "light",
      "tags": []
     },
     "output_type": "display_data"
    }
   ],
   "source": [
    "plt.plot(result.history['accuracy'])"
   ]
  },
  {
   "cell_type": "code",
   "execution_count": 15,
   "metadata": {
    "colab": {
     "base_uri": "https://localhost:8080/"
    },
    "id": "yYaahn-u7hzS",
    "outputId": "9596594d-708f-4800-c9a1-a4479b25dd21"
   },
   "outputs": [
    {
     "data": {
      "text/plain": [
       "['loss', 'accuracy']"
      ]
     },
     "execution_count": 15,
     "metadata": {
      "tags": []
     },
     "output_type": "execute_result"
    }
   ],
   "source": [
    "model.metrics_names"
   ]
  },
  {
   "cell_type": "code",
   "execution_count": 16,
   "metadata": {
    "colab": {
     "base_uri": "https://localhost:8080/",
     "height": 265
    },
    "id": "J1v--WfdTQTF",
    "outputId": "0061abfe-961f-45cb-e276-9ddd5927a197"
   },
   "outputs": [
    {
     "data": {
      "image/png": "[encoded data removed]",
      "text/plain": [
       "<Figure size 720x288 with 2 Axes>"
      ]
     },
     "metadata": {
      "needs_background": "light",
      "tags": []
     },
     "output_type": "display_data"
    }
   ],
   "source": [
    "plt.figure(figsize=(10,4))\n",
    "plt.subplot(1,2,1)\n",
    "\n",
    "plt.plot(result.history['accuracy'], label='train accuracy', color='red')\n",
    "plt.plot(result.history['val_accuracy'], label='validation accuracy', color='blue')\n",
    "plt.legend()\n",
    "\n",
    "plt.subplot(1,2,2)\n",
    "plt.plot(result.history['loss'], label='train loss', color='red')\n",
    "plt.plot(result.history['val_loss'], label='validation loss', color='blue')\n",
    "plt.legend()\n",
    "\n",
    "plt.show()"
   ]
  },
  {
   "cell_type": "code",
   "execution_count": 16,
   "metadata": {
    "id": "kMhh6ki9TP4m"
   },
   "outputs": [],
   "source": []
  },
  {
   "cell_type": "code",
   "execution_count": 17,
   "metadata": {
    "id": "rfOD9wR37nwL"
   },
   "outputs": [],
   "source": [
    "from sklearn.metrics import confusion_matrix, classification_report"
   ]
  },
  {
   "cell_type": "code",
   "execution_count": 18,
   "metadata": {
    "colab": {
     "base_uri": "https://localhost:8080/"
    },
    "id": "2MRzEEqBEgjc",
    "outputId": "4ea68f2f-a62a-453c-f528-9e946dd43657"
   },
   "outputs": [
    {
     "name": "stderr",
     "output_type": "stream",
     "text": [
      "/usr/local/lib/python3.7/dist-packages/keras/engine/sequential.py:450: UserWarning: `model.predict_classes()` is deprecated and will be removed after 2021-01-01. Please use instead:* `np.argmax(model.predict(x), axis=-1)`,   if your model does multi-class classification   (e.g. if it uses a `softmax` last-layer activation).* `(model.predict(x) > 0.5).astype(\"int32\")`,   if your model does binary classification   (e.g. if it uses a `sigmoid` last-layer activation).\n",
      "  warnings.warn('`model.predict_classes()` is deprecated and '\n"
     ]
    }
   ],
   "source": [
    "prediction = model.predict_classes(test_generator)"
   ]
  },
  {
   "cell_type": "code",
   "execution_count": 19,
   "metadata": {
    "id": "J-6zLq1P8EKO"
   },
   "outputs": [],
   "source": [
    "import math\n",
    "num_of_examples = len(test_generator.filenames)\n",
    "num_of_generator_calls = math.ceil(num_of_examples/(1.0*80))\n",
    "test_labels=[]\n",
    "for i in range(0,int(num_of_generator_calls)):\n",
    "  test_labels.extend(np.array(test_generator[i][1]))\n"
   ]
  },
  {
   "cell_type": "code",
   "execution_count": 20,
   "metadata": {
    "colab": {
     "base_uri": "https://localhost:8080/"
    },
    "id": "2geMkmUeTwRn",
    "outputId": "9b6f21de-9363-47ea-aa44-196fbcf774b6"
   },
   "outputs": [
    {
     "data": {
      "text/plain": [
       "{'WithMask': 0, 'WithoutMask': 1}"
      ]
     },
     "execution_count": 20,
     "metadata": {
      "tags": []
     },
     "output_type": "execute_result"
    }
   ],
   "source": [
    "train_generator.class_indices"
   ]
  },
  {
   "cell_type": "code",
   "execution_count": 21,
   "metadata": {
    "colab": {
     "base_uri": "https://localhost:8080/"
    },
    "id": "kciIA1sQ7-tt",
    "outputId": "ff264692-32e6-4a8e-dc24-581ed7e5678e"
   },
   "outputs": [
    {
     "data": {
      "text/plain": [
       "array([[476,   7],\n",
       "       [  2, 507]])"
      ]
     },
     "execution_count": 21,
     "metadata": {
      "tags": []
     },
     "output_type": "execute_result"
    }
   ],
   "source": [
    "confusion_matrix(test_labels, prediction)"
   ]
  },
  {
   "cell_type": "code",
   "execution_count": 22,
   "metadata": {
    "colab": {
     "base_uri": "https://localhost:8080/",
     "height": 513
    },
    "id": "jaHTRDKyTgAN",
    "outputId": "3b547dcb-f9aa-480d-ca05-a312f5b619bc"
   },
   "outputs": [
    {
     "data": {
      "image/png": "[encoded data removed]",
      "text/plain": [
       "<Figure size 1800x504 with 2 Axes>"
      ]
     },
     "metadata": {
      "needs_background": "light",
      "tags": []
     },
     "output_type": "display_data"
    }
   ],
   "source": [
    "plt.figure(figsize=(25,7))\n",
    "plt.subplot(131)\n",
    "ax = sns.heatmap(confusion_matrix(test_generator.labels, prediction.round()),\n",
    "            annot = True, annot_kws={\"size\":20}, fmt=\"d\",cmap = \"Blues\")\n",
    "cmlabels = ['True Negatives', \"False Positives\",\n",
    "               'Flase Negatives', \"True Positives\"]\n",
    "for i,t in enumerate(ax.texts):\n",
    "  t.set_text(t.get_text() + \"\\n\" + cmlabels[i])\n",
    "plt.title('Confusion Matrix', size=25)\n",
    "plt.xlabel('Predicted Outcome', size=20)\n",
    "plt.ylabel('Actual Outcome', size=20)\n",
    "labels = ['Mask', 'No Mask']\n",
    "ax.set_xticklabels(labels, size=15)\n",
    "ax.set_yticklabels(labels, size=15)\n",
    "plt.tight_layout()\n",
    "plt.show();"
   ]
  },
  {
   "cell_type": "code",
   "execution_count": 23,
   "metadata": {
    "colab": {
     "base_uri": "https://localhost:8080/"
    },
    "id": "evN2NOGZ-S7n",
    "outputId": "33715068-5be6-4a29-f251-ba65d4e45ba1"
   },
   "outputs": [
    {
     "name": "stdout",
     "output_type": "stream",
     "text": [
      "              precision    recall  f1-score   support\n",
      "\n",
      "         0.0       1.00      0.99      0.99       483\n",
      "         1.0       0.99      1.00      0.99       509\n",
      "\n",
      "    accuracy                           0.99       992\n",
      "   macro avg       0.99      0.99      0.99       992\n",
      "weighted avg       0.99      0.99      0.99       992\n",
      "\n"
     ]
    }
   ],
   "source": [
    "print(classification_report(test_labels, prediction))"
   ]
  },
  {
   "cell_type": "code",
   "execution_count": 23,
   "metadata": {
    "id": "ml7b2I-n_pTy"
   },
   "outputs": [],
   "source": []
  },
  {
   "cell_type": "code",
   "execution_count": 23,
   "metadata": {
    "id": "XZcHbb_o7CRg"
   },
   "outputs": [],
   "source": []
  }
 ],
 "metadata": {
  "accelerator": "GPU",
  "colab": {
   "collapsed_sections": [],
   "name": "Deep_learning_project.ipynb",
   "provenance": [],
   "toc_visible": true
  },
  "kernelspec": {
   "display_name": "Python 3",
   "language": "python",
   "name": "python3"
  },
  "language_info": {
   "codemirror_mode": {
    "name": "ipython",
    "version": 3
   },
   "file_extension": ".py",
   "mimetype": "text/x-python",
   "name": "python",
   "nbconvert_exporter": "python",
   "pygments_lexer": "ipython3",
   "version": "3.8.8"
  }
 },
 "nbformat": 4,
 "nbformat_minor": 4
}
