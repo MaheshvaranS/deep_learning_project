{
 "cells": [
  {
   "cell_type": "code",
   "execution_count": 1,
   "metadata": {
    "colab": {
     "base_uri": "https://localhost:8080/"
    },
    "id": "-pwN7X5sVgjL",
    "outputId": "e673bcc8-4b75-4a9d-864b-fff1b750609b"
   },
   "outputs": [
    {
     "name": "stdout",
     "output_type": "stream",
     "text": [
      "Mon Jun  7 21:53:11 2021       \n",
      "+-----------------------------------------------------------------------------+\n",
      "| NVIDIA-SMI 465.27       Driver Version: 460.32.03    CUDA Version: 11.2     |\n",
      "|-------------------------------+----------------------+----------------------+\n",
      "| GPU  Name        Persistence-M| Bus-Id        Disp.A | Volatile Uncorr. ECC |\n",
      "| Fan  Temp  Perf  Pwr:Usage/Cap|         Memory-Usage | GPU-Util  Compute M. |\n",
      "|                               |                      |               MIG M. |\n",
      "|===============================+======================+======================|\n",
      "|   0  Tesla T4            Off  | 00000000:00:04.0 Off |                    0 |\n",
      "| N/A   45C    P8     9W /  70W |      0MiB / 15109MiB |      0%      Default |\n",
      "|                               |                      |                  N/A |\n",
      "+-------------------------------+----------------------+----------------------+\n",
      "                                                                               \n",
      "+-----------------------------------------------------------------------------+\n",
      "| Processes:                                                                  |\n",
      "|  GPU   GI   CI        PID   Type   Process name                  GPU Memory |\n",
      "|        ID   ID                                                   Usage      |\n",
      "|=============================================================================|\n",
      "|  No running processes found                                                 |\n",
      "+-----------------------------------------------------------------------------+\n"
     ]
    }
   ],
   "source": [
    "!nvidia-smi"
   ]
  },
  {
   "cell_type": "code",
   "execution_count": 2,
   "metadata": {
    "id": "Pi-Swpjwadao"
   },
   "outputs": [],
   "source": [
    "import pandas as pd\n",
    "import numpy as np\n",
    "import matplotlib.pyplot as plt\n",
    "%matplotlib inline\n",
    "import seaborn as sns\n",
    "import os, shutil\n",
    "from glob import glob"
   ]
  },
  {
   "cell_type": "code",
   "execution_count": 4,
   "metadata": {
    "colab": {
     "base_uri": "https://localhost:8080/"
    },
    "id": "jXCwu9HpnsZt",
    "outputId": "da4c3241-a364-47ae-acac-1fd14dd76f1a"
   },
   "outputs": [
    {
     "name": "stdout",
     "output_type": "stream",
     "text": [
      "Drive already mounted at /content/grive; to attempt to forcibly remount, call drive.mount(\"/content/grive\", force_remount=True).\n"
     ]
    }
   ],
   "source": [
    "from google.colab import drive\n",
    "drive.mount('/content/grive')"
   ]
  },
  {
   "cell_type": "code",
   "execution_count": 5,
   "metadata": {
    "id": "tLEPFkckQr0j"
   },
   "outputs": [],
   "source": [
    "import cv2\n",
    "from keras.preprocessing.image import ImageDataGenerator"
   ]
  },
  {
   "cell_type": "markdown",
   "metadata": {
    "id": "MveHtQgCRK2h"
   },
   "source": [
    "# Preprocessing images"
   ]
  },
  {
   "cell_type": "code",
   "execution_count": 6,
   "metadata": {
    "id": "Ebmh-QwbQy8T"
   },
   "outputs": [],
   "source": [
    "image_gen = ImageDataGenerator(rescale=1./255)"
   ]
  },
  {
   "cell_type": "code",
   "execution_count": 9,
   "metadata": {
    "id": "duBQHPRllXY2"
   },
   "outputs": [],
   "source": [
    "train_dir = '/content/grive/MyDrive/smalldataset/train'\n",
    "val_dir = '/content/grive/MyDrive/smalldataset/validation'\n",
    "test_dir = '/content/grive/MyDrive/smalldataset/test'"
   ]
  },
  {
   "cell_type": "code",
   "execution_count": 10,
   "metadata": {
    "colab": {
     "base_uri": "https://localhost:8080/"
    },
    "id": "upJgGdKcpU6Q",
    "outputId": "7a8b45ea-5fbd-4c7b-cd03-c77c9c418b85"
   },
   "outputs": [
    {
     "name": "stdout",
     "output_type": "stream",
     "text": [
      "Found 2999 images belonging to 3 classes.\n",
      "Found 1500 images belonging to 3 classes.\n",
      "Found 1500 images belonging to 3 classes.\n"
     ]
    }
   ],
   "source": [
    "batch_size = 80\n",
    "train_generator = image_gen.flow_from_directory(train_dir,\n",
    "                                          target_size=(150,150),\n",
    "                                          batch_size=batch_size,\n",
    "                                          seed=42,\n",
    "                                          shuffle=False,\n",
    "                                          class_mode='categorical')\n",
    "val_generator = image_gen.flow_from_directory(val_dir,\n",
    "                                        target_size=(150,150),\n",
    "                                        batch_size=batch_size,\n",
    "                                        seed=42,\n",
    "                                        shuffle=False,\n",
    "                                        class_mode='categorical')\n",
    "test_generator = image_gen.flow_from_directory(test_dir,\n",
    "                                        target_size=(150,150),\n",
    "                                        batch_size=batch_size,\n",
    "                                        seed=42,\n",
    "                                        shuffle=False,\n",
    "                                        class_mode='categorical')"
   ]
  },
  {
   "cell_type": "markdown",
   "metadata": {
    "id": "V8hMONqtRSdP"
   },
   "source": [
    "# Building CNN Model"
   ]
  },
  {
   "cell_type": "code",
   "execution_count": 11,
   "metadata": {
    "id": "6Hiyz2Skr8Fp"
   },
   "outputs": [],
   "source": [
    "from keras.applications import vgg19\n",
    "from keras.models import Sequential, Model, load_model\n",
    "from keras.layers import Dense, Conv2D, MaxPool2D, Flatten, Dropout\n",
    "from keras import optimizers\n",
    "from keras.callbacks import ModelCheckpoint\n"
   ]
  },
  {
   "cell_type": "code",
   "execution_count": 15,
   "metadata": {
    "id": "RPkOe2APdLqN"
   },
   "outputs": [],
   "source": [
    "model = Sequential()\n",
    "\n",
    "model.add(Conv2D(32, (3, 3), input_shape=(150,150,3), activation='relu'))\n",
    "model.add(MaxPool2D((2,2)))\n",
    "\n",
    "model.add(Conv2D(64, (3,3),activation='relu'))\n",
    "model.add(MaxPool2D((2,2)))\n",
    "\n",
    "model.add(Conv2D(128, (3,3),activation='relu'))\n",
    "model.add(MaxPool2D((2,2)))\n",
    "\n",
    "model.add(Conv2D(128, (3,3),activation='relu'))\n",
    "model.add(MaxPool2D((2,2)))\n",
    "\n",
    "model.add(Flatten())\n",
    "model.add(Dense(512, activation='relu'))\n",
    "model.add(Dense(3, activation='softmax'))\n",
    "\n",
    "model.compile(loss='categorical_crossentropy',\n",
    "              optimizer='adam',\n",
    "              metrics=['accuracy'])"
   ]
  },
  {
   "cell_type": "code",
   "execution_count": 16,
   "metadata": {
    "colab": {
     "base_uri": "https://localhost:8080/"
    },
    "id": "psmX4o2ddL0g",
    "outputId": "4d101aa3-f995-4d00-d51b-0c65c0ce8c4f"
   },
   "outputs": [
    {
     "name": "stdout",
     "output_type": "stream",
     "text": [
      "Model: \"sequential_2\"\n",
      "_________________________________________________________________\n",
      "Layer (type)                 Output Shape              Param #   \n",
      "=================================================================\n",
      "conv2d_1 (Conv2D)            (None, 148, 148, 32)      896       \n",
      "_________________________________________________________________\n",
      "max_pooling2d (MaxPooling2D) (None, 74, 74, 32)        0         \n",
      "_________________________________________________________________\n",
      "conv2d_2 (Conv2D)            (None, 72, 72, 64)        18496     \n",
      "_________________________________________________________________\n",
      "max_pooling2d_1 (MaxPooling2 (None, 36, 36, 64)        0         \n",
      "_________________________________________________________________\n",
      "conv2d_3 (Conv2D)            (None, 34, 34, 128)       73856     \n",
      "_________________________________________________________________\n",
      "max_pooling2d_2 (MaxPooling2 (None, 17, 17, 128)       0         \n",
      "_________________________________________________________________\n",
      "conv2d_4 (Conv2D)            (None, 15, 15, 128)       147584    \n",
      "_________________________________________________________________\n",
      "max_pooling2d_3 (MaxPooling2 (None, 7, 7, 128)         0         \n",
      "_________________________________________________________________\n",
      "flatten (Flatten)            (None, 6272)              0         \n",
      "_________________________________________________________________\n",
      "dense (Dense)                (None, 512)               3211776   \n",
      "_________________________________________________________________\n",
      "dense_1 (Dense)              (None, 3)                 1539      \n",
      "=================================================================\n",
      "Total params: 3,454,147\n",
      "Trainable params: 3,454,147\n",
      "Non-trainable params: 0\n",
      "_________________________________________________________________\n"
     ]
    }
   ],
   "source": [
    "model.summary()"
   ]
  },
  {
   "cell_type": "code",
   "execution_count": 17,
   "metadata": {
    "colab": {
     "base_uri": "https://localhost:8080/"
    },
    "id": "wruTma5t9SHS",
    "outputId": "12dabbc7-f0da-44ed-a067-b882683b59c6"
   },
   "outputs": [
    {
     "name": "stderr",
     "output_type": "stream",
     "text": [
      "/usr/local/lib/python3.7/dist-packages/keras/engine/training.py:1915: UserWarning: `Model.fit_generator` is deprecated and will be removed in a future version. Please use `Model.fit`, which supports generators.\n",
      "  warnings.warn('`Model.fit_generator` is deprecated and '\n"
     ]
    },
    {
     "name": "stdout",
     "output_type": "stream",
     "text": [
      "Epoch 1/10\n",
      "37/37 [==============================] - 1237s 32s/step - loss: 1.4144 - accuracy: 0.2122 - val_loss: 0.9993 - val_accuracy: 0.3653\n",
      "Epoch 2/10\n",
      "37/37 [==============================] - 38s 1s/step - loss: 1.0109 - accuracy: 0.4559 - val_loss: 0.9868 - val_accuracy: 0.4507\n",
      "Epoch 3/10\n",
      "37/37 [==============================] - 38s 1s/step - loss: 0.7467 - accuracy: 0.7144 - val_loss: 0.3163 - val_accuracy: 0.8747\n",
      "Epoch 4/10\n",
      "37/37 [==============================] - 39s 1s/step - loss: 0.2772 - accuracy: 0.9010 - val_loss: 0.3283 - val_accuracy: 0.9113\n",
      "Epoch 5/10\n",
      "37/37 [==============================] - 39s 1s/step - loss: 0.2570 - accuracy: 0.9255 - val_loss: 0.3518 - val_accuracy: 0.8720\n",
      "Epoch 6/10\n",
      "37/37 [==============================] - 38s 1s/step - loss: 0.2195 - accuracy: 0.9291 - val_loss: 0.1740 - val_accuracy: 0.9440\n",
      "Epoch 7/10\n",
      "37/37 [==============================] - 38s 1s/step - loss: 0.1766 - accuracy: 0.9437 - val_loss: 0.2098 - val_accuracy: 0.9187\n",
      "Epoch 8/10\n",
      "37/37 [==============================] - 38s 1s/step - loss: 0.2508 - accuracy: 0.9085 - val_loss: 0.1898 - val_accuracy: 0.9313\n",
      "Epoch 9/10\n",
      "37/37 [==============================] - 38s 1s/step - loss: 0.1977 - accuracy: 0.9364 - val_loss: 0.1616 - val_accuracy: 0.9387\n",
      "Epoch 10/10\n",
      "37/37 [==============================] - 38s 1s/step - loss: 0.1600 - accuracy: 0.9488 - val_loss: 0.1030 - val_accuracy: 0.9627\n"
     ]
    }
   ],
   "source": [
    "result = model.fit_generator(train_generator, \n",
    "                             validation_data=val_generator,\n",
    "                             epochs=10,\n",
    "                             steps_per_epoch=(len(train_generator.labels)/80),\n",
    "                             validation_steps=(len(val_generator.labels)/80)\n",
    "                             )"
   ]
  },
  {
   "cell_type": "code",
   "execution_count": 31,
   "metadata": {
    "id": "kODlcWMB-pRW"
   },
   "outputs": [],
   "source": [
    "model.save('multiclass_baseline.h5')"
   ]
  },
  {
   "cell_type": "markdown",
   "metadata": {
    "id": "4DRI-JkLSLLc"
   },
   "source": [
    "# Evaluation on model"
   ]
  },
  {
   "cell_type": "code",
   "execution_count": 18,
   "metadata": {
    "colab": {
     "base_uri": "https://localhost:8080/"
    },
    "id": "RH0W9FIpSQ6H",
    "outputId": "a86f9da4-22a8-4bdc-f947-4180e3210311"
   },
   "outputs": [
    {
     "data": {
      "text/plain": [
       "[0.20506834983825684,\n",
       " 0.4748249351978302,\n",
       " 0.7929309606552124,\n",
       " 0.8759586811065674,\n",
       " 0.9216405749320984,\n",
       " 0.9223074316978455,\n",
       " 0.9329776763916016,\n",
       " 0.9179726839065552,\n",
       " 0.9449816346168518,\n",
       " 0.9569856524467468]"
      ]
     },
     "execution_count": 18,
     "metadata": {
      "tags": []
     },
     "output_type": "execute_result"
    }
   ],
   "source": [
    "result.history['accuracy']"
   ]
  },
  {
   "cell_type": "code",
   "execution_count": 19,
   "metadata": {
    "colab": {
     "base_uri": "https://localhost:8080/",
     "height": 282
    },
    "id": "DtHMy3QJSQEn",
    "outputId": "561c48de-f1d1-44cc-9564-7a820ebbcb2d"
   },
   "outputs": [
    {
     "data": {
      "text/plain": [
       "[<matplotlib.lines.Line2D at 0x7f8d7a534990>]"
      ]
     },
     "execution_count": 19,
     "metadata": {
      "tags": []
     },
     "output_type": "execute_result"
    },
    {
     "data": {
      "image/png": "[encoded data removed]",
      "text/plain": [
       "<Figure size 432x288 with 1 Axes>"
      ]
     },
     "metadata": {
      "needs_background": "light",
      "tags": []
     },
     "output_type": "display_data"
    }
   ],
   "source": [
    "plt.plot(result.history['accuracy'])"
   ]
  },
  {
   "cell_type": "code",
   "execution_count": 30,
   "metadata": {
    "colab": {
     "base_uri": "https://localhost:8080/"
    },
    "id": "9_QlTYFTqNI8",
    "outputId": "ba216348-0a74-4a48-ef8b-e4b31f4c568f"
   },
   "outputs": [
    {
     "data": {
      "text/plain": [
       "[0.36533331871032715,\n",
       " 0.4506666660308838,\n",
       " 0.874666690826416,\n",
       " 0.9113333225250244,\n",
       " 0.871999979019165,\n",
       " 0.9440000057220459,\n",
       " 0.918666660785675,\n",
       " 0.9313333630561829,\n",
       " 0.9386666417121887,\n",
       " 0.9626666903495789]"
      ]
     },
     "execution_count": 30,
     "metadata": {
      "tags": []
     },
     "output_type": "execute_result"
    }
   ],
   "source": [
    "result.history['val_accuracy']"
   ]
  },
  {
   "cell_type": "code",
   "execution_count": 20,
   "metadata": {
    "colab": {
     "base_uri": "https://localhost:8080/",
     "height": 269
    },
    "id": "J1v--WfdTQTF",
    "outputId": "4f492770-0f97-4da7-ef1f-679faae53fca"
   },
   "outputs": [
    {
     "data": {
      "image/png": "[encoded data removed]",
      "text/plain": [
       "<Figure size 720x288 with 2 Axes>"
      ]
     },
     "metadata": {
      "needs_background": "light",
      "tags": []
     },
     "output_type": "display_data"
    }
   ],
   "source": [
    "plt.figure(figsize=(10,4))\n",
    "plt.subplot(1,2,1)\n",
    "\n",
    "plt.plot(result.history['accuracy'], label='train accuracy', color='red')\n",
    "plt.plot(result.history['val_accuracy'], label='validation accuracy', color='blue')\n",
    "plt.legend()\n",
    "\n",
    "plt.subplot(1,2,2)\n",
    "plt.plot(result.history['loss'], label='train loss', color='red')\n",
    "plt.plot(result.history['val_loss'], label='validation loss', color='blue')\n",
    "plt.legend()\n",
    "\n",
    "plt.show()"
   ]
  },
  {
   "cell_type": "code",
   "execution_count": 21,
   "metadata": {
    "id": "rfOD9wR37nwL"
   },
   "outputs": [],
   "source": [
    "from sklearn.metrics import confusion_matrix, classification_report"
   ]
  },
  {
   "cell_type": "code",
   "execution_count": 22,
   "metadata": {
    "colab": {
     "base_uri": "https://localhost:8080/"
    },
    "id": "2MRzEEqBEgjc",
    "outputId": "ac08cbee-98cf-43ba-ac81-38e3e7de13aa"
   },
   "outputs": [
    {
     "name": "stderr",
     "output_type": "stream",
     "text": [
      "/usr/local/lib/python3.7/dist-packages/keras/engine/sequential.py:450: UserWarning: `model.predict_classes()` is deprecated and will be removed after 2021-01-01. Please use instead:* `np.argmax(model.predict(x), axis=-1)`,   if your model does multi-class classification   (e.g. if it uses a `softmax` last-layer activation).* `(model.predict(x) > 0.5).astype(\"int32\")`,   if your model does binary classification   (e.g. if it uses a `sigmoid` last-layer activation).\n",
      "  warnings.warn('`model.predict_classes()` is deprecated and '\n"
     ]
    }
   ],
   "source": [
    "prediction = model.predict_classes(test_generator)\n",
    "y_true = test_generator.labels"
   ]
  },
  {
   "cell_type": "code",
   "execution_count": 23,
   "metadata": {
    "colab": {
     "base_uri": "https://localhost:8080/"
    },
    "id": "2geMkmUeTwRn",
    "outputId": "f5aae5a9-1b30-42ad-b3b4-b649a4a54b4d"
   },
   "outputs": [
    {
     "data": {
      "text/plain": [
       "{'IncorrectMask': 0, 'WithMask': 1, 'WithoutMask': 2}"
      ]
     },
     "execution_count": 23,
     "metadata": {
      "tags": []
     },
     "output_type": "execute_result"
    }
   ],
   "source": [
    "train_generator.class_indices"
   ]
  },
  {
   "cell_type": "code",
   "execution_count": 24,
   "metadata": {
    "colab": {
     "base_uri": "https://localhost:8080/"
    },
    "id": "kciIA1sQ7-tt",
    "outputId": "ab639abc-682a-4c08-d180-328d156da0d7"
   },
   "outputs": [
    {
     "data": {
      "text/plain": [
       "array([[496,   3,   1],\n",
       "       [  6, 466,  28],\n",
       "       [  0,  12, 488]])"
      ]
     },
     "execution_count": 24,
     "metadata": {
      "tags": []
     },
     "output_type": "execute_result"
    }
   ],
   "source": [
    "confusion_matrix(y_true, prediction)"
   ]
  },
  {
   "cell_type": "code",
   "execution_count": 29,
   "metadata": {
    "colab": {
     "base_uri": "https://localhost:8080/",
     "height": 409
    },
    "id": "jaHTRDKyTgAN",
    "outputId": "7bd5d091-cc30-46ec-d25a-045dc8d6650c"
   },
   "outputs": [
    {
     "data": {
      "image/png": "[encoded data removed]",
      "text/plain": [
       "<Figure size 2520x504 with 2 Axes>"
      ]
     },
     "metadata": {
      "needs_background": "light",
      "tags": []
     },
     "output_type": "display_data"
    }
   ],
   "source": [
    "plt.figure(figsize=(35,7))\n",
    "plt.subplot(131)\n",
    "ax = sns.heatmap(confusion_matrix(test_generator.labels, prediction.round()),\n",
    "            annot = True, annot_kws={\"size\":20}, fmt=\"d\",cmap = \"Blues\")\n",
    "# cmlabels = ['True Negatives', \"False Positives\",\n",
    "#                'Flase Negatives', \"True Positives\"]\n",
    "# for i,t in enumerate(ax.texts):\n",
    "#   t.set_text(t.get_text() + \"\\n\" + cmlabels[i])\n",
    "plt.title('Confusion Matrix', size=25)\n",
    "plt.xlabel('Predicted Outcome', size=20)\n",
    "plt.ylabel('Actual Outcome', size=20)\n",
    "labels = ['Incorrect Mask', 'Mask', 'No Mask']\n",
    "ax.set_xticklabels(labels, size=15)\n",
    "ax.set_yticklabels(labels, size=15)\n",
    "plt.tight_layout()\n",
    "plt.show();"
   ]
  },
  {
   "cell_type": "code",
   "execution_count": 26,
   "metadata": {
    "colab": {
     "base_uri": "https://localhost:8080/"
    },
    "id": "evN2NOGZ-S7n",
    "outputId": "bbf99a78-674a-4c93-9f24-5cd0bde46bcb"
   },
   "outputs": [
    {
     "name": "stdout",
     "output_type": "stream",
     "text": [
      "              precision    recall  f1-score   support\n",
      "\n",
      "           0       0.99      0.99      0.99       500\n",
      "           1       0.97      0.93      0.95       500\n",
      "           2       0.94      0.98      0.96       500\n",
      "\n",
      "    accuracy                           0.97      1500\n",
      "   macro avg       0.97      0.97      0.97      1500\n",
      "weighted avg       0.97      0.97      0.97      1500\n",
      "\n"
     ]
    }
   ],
   "source": [
    "print(classification_report(y_true, prediction))"
   ]
  },
  {
   "cell_type": "code",
   "execution_count": null,
   "metadata": {
    "id": "D18kY0khCeDN"
   },
   "outputs": [],
   "source": []
  }
 ],
 "metadata": {
  "accelerator": "GPU",
  "colab": {
   "collapsed_sections": [],
   "name": "multiclass_smalldf.ipynb",
   "provenance": [],
   "toc_visible": true
  },
  "kernelspec": {
   "display_name": "Python 3",
   "language": "python",
   "name": "python3"
  },
  "language_info": {
   "codemirror_mode": {
    "name": "ipython",
    "version": 3
   },
   "file_extension": ".py",
   "mimetype": "text/x-python",
   "name": "python",
   "nbconvert_exporter": "python",
   "pygments_lexer": "ipython3",
   "version": "3.8.8"
  }
 },
 "nbformat": 4,
 "nbformat_minor": 4
}
