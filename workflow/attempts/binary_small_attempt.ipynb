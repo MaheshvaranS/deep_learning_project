{
 "cells": [
  {
   "cell_type": "code",
   "execution_count": 1,
   "id": "affecting-pipeline",
   "metadata": {},
   "outputs": [
    {
     "data": {
      "text/plain": [
       "'2.5.0'"
      ]
     },
     "execution_count": 1,
     "metadata": {},
     "output_type": "execute_result"
    }
   ],
   "source": [
    "import keras\n",
    "keras.__version__"
   ]
  },
  {
   "cell_type": "code",
   "execution_count": 2,
   "id": "0583ec7a-c77d-4d93-8c40-671543fd3b29",
   "metadata": {},
   "outputs": [],
   "source": [
    "import os, shutil"
   ]
  },
  {
   "cell_type": "markdown",
   "id": "dd5ddf45-1830-4886-87c2-094e6bf9f397",
   "metadata": {},
   "source": [
    "# Building a small set of data"
   ]
  },
  {
   "cell_type": "code",
   "execution_count": 9,
   "id": "2e85b6b6-59a3-4249-bcf7-e30f5ff3aaa8",
   "metadata": {},
   "outputs": [],
   "source": [
    "# The path to the directory where the original\n",
    "# dataset was uncompressed\n",
    "original_mask_dataset_dir = '/Users/crystalhuang/Documents/GitHub/deep_learning_project/Face Mask Dataset/Train/WithMask'\n",
    "original_nomask_dataset_dir = '/Users/crystalhuang/Documents/GitHub/deep_learning_project/Face Mask Dataset/Train/WithoutMask'\n",
    "\n",
    "# The directory where we will\n",
    "# store our smaller dataset\n",
    "base_dir = '/Users/crystalhuang/Documents/GitHub/deep_learning_project/smalldataset'\n",
    "os.mkdir(base_dir)\n",
    "\n",
    "# Directories for our training,\n",
    "# validation and test splits\n",
    "train_dir = os.path.join(base_dir, 'train')\n",
    "os.mkdir(train_dir)\n",
    "validation_dir = os.path.join(base_dir, 'validation')\n",
    "os.mkdir(validation_dir)\n",
    "test_dir = os.path.join(base_dir, 'test')\n",
    "os.mkdir(test_dir)\n",
    "\n",
    "# Directory with our training mask pictures\n",
    "train_mask_dir = os.path.join(train_dir, 'WithMask')\n",
    "os.mkdir(train_mask_dir)\n",
    "\n",
    "# Directory with our training nomask pictures\n",
    "train_nomask_dir = os.path.join(train_dir, 'WithoutMask')\n",
    "os.mkdir(train_nomask_dir)\n",
    "\n",
    "# Directory with our validation mask pictures\n",
    "validation_mask_dir = os.path.join(validation_dir, 'WithMask')\n",
    "os.mkdir(validation_mask_dir)\n",
    "\n",
    "# Directory with our validation nomask pictures\n",
    "validation_nomask_dir = os.path.join(validation_dir, 'WithoutMask')\n",
    "os.mkdir(validation_nomask_dir)\n",
    "\n",
    "# Directory with our validation mask pictures\n",
    "test_mask_dir = os.path.join(test_dir, 'WithMask')\n",
    "os.mkdir(test_mask_dir)\n",
    "\n",
    "# Directory with our validation nomask pictures\n",
    "test_nomask_dir = os.path.join(test_dir, 'WithoutMask')\n",
    "os.mkdir(test_nomask_dir)\n",
    "\n",
    "# Copy first 1000 mask images to train_mask_dir\n",
    "parent_list = os.listdir(original_mask_dataset_dir)\n",
    "count=0\n",
    "for child in parent_list:\n",
    "    if count<1000:\n",
    "        src = os.path.join(original_mask_dataset_dir, child)\n",
    "        dst = os.path.join(train_mask_dir, child)\n",
    "        shutil.copyfile(src, dst)\n",
    "    else:\n",
    "        break\n",
    "    count += 1    \n",
    "    \n",
    "# Copy next 500 mask images to validation_mask_dir\n",
    "parent_list = os.listdir(original_mask_dataset_dir)\n",
    "count=0\n",
    "for child in parent_list:\n",
    "    if count<1000:\n",
    "        pass\n",
    "    elif count >= 1000 and count <1500:\n",
    "        src = os.path.join(original_mask_dataset_dir, child)\n",
    "        dst = os.path.join(validation_mask_dir, child)\n",
    "        shutil.copyfile(src, dst)\n",
    "    else:\n",
    "        break\n",
    "    count += 1   \n",
    "\n",
    "# Copy next 500 mask images to test_mask_dir\n",
    "parent_list = os.listdir(original_mask_dataset_dir)\n",
    "count=0\n",
    "for child in parent_list:\n",
    "    if count<1500:\n",
    "        pass\n",
    "    elif count >= 1500 and count <2000:\n",
    "        src = os.path.join(original_mask_dataset_dir, child)\n",
    "        dst = os.path.join(test_mask_dir, child)\n",
    "        shutil.copyfile(src, dst)\n",
    "    else:\n",
    "        break\n",
    "    count += 1   \n",
    "\n",
    "# Copy first 1000 nomask images to train_nomask_dir\n",
    "parent_list = os.listdir(original_nomask_dataset_dir)\n",
    "count=0\n",
    "for child in parent_list:\n",
    "    if count<1000:\n",
    "        src = os.path.join(original_nomask_dataset_dir, child)\n",
    "        dst = os.path.join(train_nomask_dir, child)\n",
    "        shutil.copyfile(src, dst)\n",
    "    else:\n",
    "        break\n",
    "    count += 1   \n",
    "\n",
    "# Copy next 500 nomask images to validation_nomask_dir\n",
    "parent_list = os.listdir(original_nomask_dataset_dir)\n",
    "count=0\n",
    "for child in parent_list:\n",
    "    if count<1000:\n",
    "        pass\n",
    "    elif count >= 1000 and count <1500:\n",
    "        src = os.path.join(original_nomask_dataset_dir, child)\n",
    "        dst = os.path.join(validation_nomask_dir, child)\n",
    "        shutil.copyfile(src, dst)\n",
    "    else:\n",
    "        break\n",
    "    count += 1  \n",
    "\n",
    "# Copy next 500 nomask images to test_nomask_dir\n",
    "parent_list = os.listdir(original_nomask_dataset_dir)\n",
    "count=0\n",
    "for child in parent_list:\n",
    "    if count<1500:\n",
    "        pass\n",
    "    elif count >= 1500 and count <2000:\n",
    "        src = os.path.join(original_nomask_dataset_dir, child)\n",
    "        dst = os.path.join(test_nomask_dir, child)\n",
    "        shutil.copyfile(src, dst)\n",
    "    else:\n",
    "        break\n",
    "    count += 1  "
   ]
  },
  {
   "cell_type": "code",
   "execution_count": 10,
   "id": "ae050068-0fac-46b3-a2b9-0cd10d4443d2",
   "metadata": {},
   "outputs": [
    {
     "name": "stdout",
     "output_type": "stream",
     "text": [
      "total training mask images:  1000\n",
      "total training nomask images:  1000\n",
      "total validation mask images:  500\n",
      "total validation nomask images:  500\n",
      "total test mask images:  500\n",
      "total test nomask images:  500\n"
     ]
    }
   ],
   "source": [
    "print('total training mask images: ', len(os.listdir(train_mask_dir)))\n",
    "print('total training nomask images: ', len(os.listdir(train_nomask_dir)))\n",
    "print('total validation mask images: ', len(os.listdir(validation_mask_dir)))\n",
    "print('total validation nomask images: ', len(os.listdir(validation_nomask_dir)))\n",
    "print('total test mask images: ', len(os.listdir(test_mask_dir)))\n",
    "print('total test nomask images: ', len(os.listdir(test_nomask_dir)))"
   ]
  },
  {
   "cell_type": "markdown",
   "id": "5bc3ca31-79dd-4612-b40e-cd3fa4ff3c1a",
   "metadata": {},
   "source": [
    "# Building network model for small dataset"
   ]
  },
  {
   "cell_type": "code",
   "execution_count": 26,
   "id": "3a8ec424-694e-4e7d-b5eb-1241941da463",
   "metadata": {},
   "outputs": [],
   "source": [
    "from keras.models import Sequential\n",
    "from keras.layers import Dense, Conv2D, MaxPool2D, Flatten, Dropout"
   ]
  },
  {
   "cell_type": "code",
   "execution_count": 15,
   "id": "1f567c2f-62c0-40ff-826d-1c8a570dd3fc",
   "metadata": {},
   "outputs": [],
   "source": [
    "model = Sequential()\n",
    "\n",
    "model.add(Conv2D(32, (3,3),input_shape=(150,150,3),activation='relu'))\n",
    "model.add(MaxPool2D((2,2)))\n",
    "\n",
    "model.add(Conv2D(64, (3,3),activation='relu'))\n",
    "model.add(MaxPool2D((2,2)))\n",
    "\n",
    "model.add(Conv2D(128, (3,3),activation='relu'))\n",
    "model.add(MaxPool2D((2,2)))\n",
    "\n",
    "model.add(Conv2D(128, (3,3),activation='relu'))\n",
    "model.add(MaxPool2D((2,2)))\n",
    "\n",
    "model.add(Flatten())\n",
    "model.add(Dense(512, activation='relu'))\n",
    "model.add(Dense(1, activation='sigmoid'))"
   ]
  },
  {
   "cell_type": "code",
   "execution_count": 16,
   "id": "cd4296fc-12d7-44b1-945d-f9a060412f8b",
   "metadata": {},
   "outputs": [
    {
     "name": "stdout",
     "output_type": "stream",
     "text": [
      "Model: \"sequential_2\"\n",
      "_________________________________________________________________\n",
      "Layer (type)                 Output Shape              Param #   \n",
      "=================================================================\n",
      "conv2d_2 (Conv2D)            (None, 148, 148, 32)      896       \n",
      "_________________________________________________________________\n",
      "max_pooling2d (MaxPooling2D) (None, 74, 74, 32)        0         \n",
      "_________________________________________________________________\n",
      "conv2d_3 (Conv2D)            (None, 72, 72, 64)        18496     \n",
      "_________________________________________________________________\n",
      "max_pooling2d_1 (MaxPooling2 (None, 36, 36, 64)        0         \n",
      "_________________________________________________________________\n",
      "conv2d_4 (Conv2D)            (None, 34, 34, 128)       73856     \n",
      "_________________________________________________________________\n",
      "max_pooling2d_2 (MaxPooling2 (None, 17, 17, 128)       0         \n",
      "_________________________________________________________________\n",
      "conv2d_5 (Conv2D)            (None, 15, 15, 128)       147584    \n",
      "_________________________________________________________________\n",
      "max_pooling2d_3 (MaxPooling2 (None, 7, 7, 128)         0         \n",
      "_________________________________________________________________\n",
      "flatten (Flatten)            (None, 6272)              0         \n",
      "_________________________________________________________________\n",
      "dense (Dense)                (None, 512)               3211776   \n",
      "_________________________________________________________________\n",
      "dense_1 (Dense)              (None, 1)                 513       \n",
      "=================================================================\n",
      "Total params: 3,453,121\n",
      "Trainable params: 3,453,121\n",
      "Non-trainable params: 0\n",
      "_________________________________________________________________\n"
     ]
    }
   ],
   "source": [
    "model.summary()"
   ]
  },
  {
   "cell_type": "code",
   "execution_count": 17,
   "id": "0b19f290-0f5d-4753-9ec1-4d4f3d17c73c",
   "metadata": {},
   "outputs": [
    {
     "name": "stderr",
     "output_type": "stream",
     "text": [
      "/Users/crystalhuang/anaconda3/lib/python3.8/site-packages/tensorflow/python/keras/optimizer_v2/optimizer_v2.py:374: UserWarning: The `lr` argument is deprecated, use `learning_rate` instead.\n",
      "  warnings.warn(\n"
     ]
    }
   ],
   "source": [
    "from keras import optimizers\n",
    "\n",
    "model.compile(loss='binary_crossentropy',\n",
    "             optimizer=optimizers.RMSprop(lr=1e-4),\n",
    "             metrics=['acc'])"
   ]
  },
  {
   "cell_type": "markdown",
   "id": "f2ba5feb-48c2-4ae9-ba15-8e960555f236",
   "metadata": {},
   "source": [
    "# Data preprocessing"
   ]
  },
  {
   "cell_type": "code",
   "execution_count": 18,
   "id": "94d7095c-b49f-4e62-aef9-7eb74b5242e7",
   "metadata": {},
   "outputs": [
    {
     "name": "stdout",
     "output_type": "stream",
     "text": [
      "Found 2000 images belonging to 2 classes.\n",
      "Found 1000 images belonging to 2 classes.\n"
     ]
    }
   ],
   "source": [
    "from keras.preprocessing.image import ImageDataGenerator\n",
    "\n",
    "# All images will be rescaled by 1./255\n",
    "train_datagen = ImageDataGenerator(rescale=1./255)\n",
    "test_datagen = ImageDataGenerator(rescale=1./255)\n",
    "\n",
    "train_generator = train_datagen.flow_from_directory(\n",
    "        # This is the target directory\n",
    "        train_dir,\n",
    "        # All images will be resized to 150x150\n",
    "        target_size=(150, 150),\n",
    "        batch_size=20,\n",
    "        # Since we use binary_crossentropy loss, we need binary labels\n",
    "        class_mode='binary')\n",
    "\n",
    "validation_generator = test_datagen.flow_from_directory(\n",
    "        validation_dir,\n",
    "        target_size=(150, 150),\n",
    "        batch_size=20,\n",
    "        class_mode='binary')"
   ]
  },
  {
   "cell_type": "code",
   "execution_count": 19,
   "id": "ec2b81b4-86b0-45c4-8813-2de2e40c7db2",
   "metadata": {},
   "outputs": [
    {
     "name": "stdout",
     "output_type": "stream",
     "text": [
      "data batch shape: (20, 150, 150, 3)\n",
      "labels batch shape: (20,)\n"
     ]
    }
   ],
   "source": [
    "for data_batch, labels_batch in train_generator:\n",
    "    print('data batch shape:', data_batch.shape)\n",
    "    print('labels batch shape:', labels_batch.shape)\n",
    "    break"
   ]
  },
  {
   "cell_type": "markdown",
   "id": "567b3815-92b4-465d-b7fb-54a4824ea7d4",
   "metadata": {},
   "source": [
    "# Fitting training data into model"
   ]
  },
  {
   "cell_type": "code",
   "execution_count": 20,
   "id": "c6556c32-5bfe-4604-bf2e-e63889e3006f",
   "metadata": {},
   "outputs": [
    {
     "name": "stderr",
     "output_type": "stream",
     "text": [
      "/Users/crystalhuang/anaconda3/lib/python3.8/site-packages/keras/engine/training.py:1915: UserWarning: `Model.fit_generator` is deprecated and will be removed in a future version. Please use `Model.fit`, which supports generators.\n",
      "  warnings.warn('`Model.fit_generator` is deprecated and '\n"
     ]
    },
    {
     "name": "stdout",
     "output_type": "stream",
     "text": [
      "Epoch 1/30\n",
      "100/100 [==============================] - 88s 728ms/step - loss: 0.4789 - acc: 0.7299 - val_loss: 0.1510 - val_acc: 0.9480\n",
      "Epoch 2/30\n",
      "100/100 [==============================] - 71s 711ms/step - loss: 0.1535 - acc: 0.9490 - val_loss: 0.1514 - val_acc: 0.9440\n",
      "Epoch 3/30\n",
      "100/100 [==============================] - 77s 773ms/step - loss: 0.1237 - acc: 0.9570 - val_loss: 0.0906 - val_acc: 0.9710\n",
      "Epoch 4/30\n",
      "100/100 [==============================] - 76s 758ms/step - loss: 0.0835 - acc: 0.9693 - val_loss: 0.0844 - val_acc: 0.9670\n",
      "Epoch 5/30\n",
      "100/100 [==============================] - 81s 811ms/step - loss: 0.0782 - acc: 0.9684 - val_loss: 0.0699 - val_acc: 0.9720\n",
      "Epoch 6/30\n",
      "100/100 [==============================] - 147s 1s/step - loss: 0.0536 - acc: 0.9792 - val_loss: 0.0650 - val_acc: 0.9750\n",
      "Epoch 7/30\n",
      "100/100 [==============================] - 153s 2s/step - loss: 0.0396 - acc: 0.9860 - val_loss: 0.0876 - val_acc: 0.9690\n",
      "Epoch 8/30\n",
      "100/100 [==============================] - 174s 2s/step - loss: 0.0356 - acc: 0.9846 - val_loss: 0.0561 - val_acc: 0.9780\n",
      "Epoch 9/30\n",
      "100/100 [==============================] - 146s 1s/step - loss: 0.0229 - acc: 0.9938 - val_loss: 0.0506 - val_acc: 0.9790\n",
      "Epoch 10/30\n",
      "100/100 [==============================] - 144s 1s/step - loss: 0.0254 - acc: 0.9889 - val_loss: 0.0483 - val_acc: 0.9820\n",
      "Epoch 11/30\n",
      "100/100 [==============================] - 152s 2s/step - loss: 0.0197 - acc: 0.9935 - val_loss: 0.0457 - val_acc: 0.9800\n",
      "Epoch 12/30\n",
      "100/100 [==============================] - 187s 2s/step - loss: 0.0194 - acc: 0.9914 - val_loss: 0.0409 - val_acc: 0.9820\n",
      "Epoch 13/30\n",
      "100/100 [==============================] - 153s 2s/step - loss: 0.0145 - acc: 0.9958 - val_loss: 0.0405 - val_acc: 0.9860\n",
      "Epoch 14/30\n",
      "100/100 [==============================] - 136s 1s/step - loss: 0.0138 - acc: 0.9950 - val_loss: 0.0420 - val_acc: 0.9870\n",
      "Epoch 15/30\n",
      "100/100 [==============================] - 138s 1s/step - loss: 0.0106 - acc: 0.9967 - val_loss: 0.0427 - val_acc: 0.9860\n",
      "Epoch 16/30\n",
      "100/100 [==============================] - 152s 2s/step - loss: 0.0120 - acc: 0.9957 - val_loss: 0.0482 - val_acc: 0.9900\n",
      "Epoch 17/30\n",
      "100/100 [==============================] - 126s 1s/step - loss: 0.0074 - acc: 0.9977 - val_loss: 0.0529 - val_acc: 0.9840\n",
      "Epoch 18/30\n",
      "100/100 [==============================] - 132s 1s/step - loss: 0.0110 - acc: 0.9956 - val_loss: 0.0379 - val_acc: 0.9880\n",
      "Epoch 19/30\n",
      "100/100 [==============================] - 75s 744ms/step - loss: 0.0042 - acc: 0.9978 - val_loss: 0.0504 - val_acc: 0.9860\n",
      "Epoch 20/30\n",
      "100/100 [==============================] - 62s 622ms/step - loss: 0.0187 - acc: 0.9951 - val_loss: 0.0400 - val_acc: 0.9900\n",
      "Epoch 21/30\n",
      "100/100 [==============================] - 62s 625ms/step - loss: 0.0033 - acc: 0.9988 - val_loss: 0.0452 - val_acc: 0.9870\n",
      "Epoch 22/30\n",
      "100/100 [==============================] - 67s 672ms/step - loss: 0.0024 - acc: 0.9998 - val_loss: 0.0494 - val_acc: 0.9880\n",
      "Epoch 23/30\n",
      "100/100 [==============================] - 63s 628ms/step - loss: 0.0051 - acc: 0.9976 - val_loss: 0.0563 - val_acc: 0.9870\n",
      "Epoch 24/30\n",
      "100/100 [==============================] - 65s 647ms/step - loss: 0.0017 - acc: 0.9994 - val_loss: 0.0490 - val_acc: 0.9870\n",
      "Epoch 25/30\n",
      "100/100 [==============================] - 62s 622ms/step - loss: 0.0024 - acc: 0.9987 - val_loss: 0.0901 - val_acc: 0.9860\n",
      "Epoch 26/30\n",
      "100/100 [==============================] - 63s 628ms/step - loss: 0.0032 - acc: 0.9972 - val_loss: 0.0479 - val_acc: 0.9900\n",
      "Epoch 27/30\n",
      "100/100 [==============================] - 62s 622ms/step - loss: 6.5657e-04 - acc: 0.9999 - val_loss: 0.0431 - val_acc: 0.9880\n",
      "Epoch 28/30\n",
      "100/100 [==============================] - 62s 618ms/step - loss: 6.4140e-04 - acc: 1.0000 - val_loss: 0.0544 - val_acc: 0.9890\n",
      "Epoch 29/30\n",
      "100/100 [==============================] - 62s 620ms/step - loss: 0.0058 - acc: 0.9990 - val_loss: 0.0632 - val_acc: 0.9850\n",
      "Epoch 30/30\n",
      "100/100 [==============================] - 62s 622ms/step - loss: 0.0020 - acc: 0.9997 - val_loss: 0.0549 - val_acc: 0.9880\n"
     ]
    }
   ],
   "source": [
    "history = model.fit_generator(\n",
    "      train_generator,\n",
    "      steps_per_epoch=100,\n",
    "      epochs=30,\n",
    "      validation_data=validation_generator,\n",
    "      validation_steps=50)"
   ]
  },
  {
   "cell_type": "code",
   "execution_count": 21,
   "id": "a1154f02-ccbc-4f8c-83e9-7fd3b346fd62",
   "metadata": {},
   "outputs": [],
   "source": [
    "# save model for small dataset\n",
    "model.save('small_1.h5')"
   ]
  },
  {
   "cell_type": "code",
   "execution_count": 22,
   "id": "c513bf6c-2e0d-442d-8db9-86f64f355dbf",
   "metadata": {},
   "outputs": [
    {
     "data": {
      "image/png": "[encoded data removed]",
      "text/plain": [
       "<Figure size 432x288 with 1 Axes>"
      ]
     },
     "metadata": {
      "needs_background": "light"
     },
     "output_type": "display_data"
    },
    {
     "data": {
      "image/png": "[encoded data removed]",
      "text/plain": [
       "<Figure size 432x288 with 1 Axes>"
      ]
     },
     "metadata": {
      "needs_background": "light"
     },
     "output_type": "display_data"
    }
   ],
   "source": [
    "# checking model performance\n",
    "import matplotlib.pyplot as plt\n",
    "\n",
    "acc = history.history['acc']\n",
    "val_acc = history.history['val_acc']\n",
    "loss = history.history['loss']\n",
    "val_loss = history.history['val_loss']\n",
    "\n",
    "epochs = range(len(acc))\n",
    "\n",
    "plt.plot(epochs, acc, 'bo', label='Training acc')\n",
    "plt.plot(epochs, val_acc, 'b', label='Validation acc')\n",
    "plt.title('Training and validation accuracy')\n",
    "plt.legend()\n",
    "\n",
    "plt.figure()\n",
    "\n",
    "plt.plot(epochs, loss, 'bo', label='Training loss')\n",
    "plt.plot(epochs, val_loss, 'b', label='Validation loss')\n",
    "plt.title('Training and validation loss')\n",
    "plt.legend()\n",
    "\n",
    "plt.show()"
   ]
  },
  {
   "cell_type": "markdown",
   "id": "c7db46e5-4582-4090-b2fe-f2ae39a13d44",
   "metadata": {},
   "source": [
    "Model performance is good! Training score is slightly higher than validation may suggestion some overfitting. But the difference isn't too big."
   ]
  },
  {
   "cell_type": "markdown",
   "id": "3c6dc16c-ff7d-4954-ab1b-e00f79d8555d",
   "metadata": {},
   "source": [
    "Will try with full dataset in the next notebook"
   ]
  },
  {
   "cell_type": "code",
   "execution_count": null,
   "id": "946c774c-b520-479d-9b31-72b4df0a9b0a",
   "metadata": {},
   "outputs": [],
   "source": []
  }
 ],
 "metadata": {
  "kernelspec": {
   "display_name": "Python [conda env:root]",
   "language": "python",
   "name": "conda-root-py"
  },
  "language_info": {
   "codemirror_mode": {
    "name": "ipython",
    "version": 3
   },
   "file_extension": ".py",
   "mimetype": "text/x-python",
   "name": "python",
   "nbconvert_exporter": "python",
   "pygments_lexer": "ipython3",
   "version": "3.8.5"
  }
 },
 "nbformat": 4,
 "nbformat_minor": 5
}
