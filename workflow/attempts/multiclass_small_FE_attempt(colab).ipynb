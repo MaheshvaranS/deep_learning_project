{
 "cells": [
  {
   "cell_type": "code",
   "execution_count": 1,
   "metadata": {
    "colab": {
     "base_uri": "https://localhost:8080/"
    },
    "id": "-pwN7X5sVgjL",
    "outputId": "8d45bb4c-bd6b-4096-9f98-99f8e37cd46d"
   },
   "outputs": [
    {
     "name": "stdout",
     "output_type": "stream",
     "text": [
      "Tue Jun  8 01:25:42 2021       \n",
      "+-----------------------------------------------------------------------------+\n",
      "| NVIDIA-SMI 465.27       Driver Version: 460.32.03    CUDA Version: 11.2     |\n",
      "|-------------------------------+----------------------+----------------------+\n",
      "| GPU  Name        Persistence-M| Bus-Id        Disp.A | Volatile Uncorr. ECC |\n",
      "| Fan  Temp  Perf  Pwr:Usage/Cap|         Memory-Usage | GPU-Util  Compute M. |\n",
      "|                               |                      |               MIG M. |\n",
      "|===============================+======================+======================|\n",
      "|   0  Tesla P100-PCIE...  Off  | 00000000:00:04.0 Off |                    0 |\n",
      "| N/A   37C    P0    26W / 250W |      0MiB / 16280MiB |      0%      Default |\n",
      "|                               |                      |                  N/A |\n",
      "+-------------------------------+----------------------+----------------------+\n",
      "                                                                               \n",
      "+-----------------------------------------------------------------------------+\n",
      "| Processes:                                                                  |\n",
      "|  GPU   GI   CI        PID   Type   Process name                  GPU Memory |\n",
      "|        ID   ID                                                   Usage      |\n",
      "|=============================================================================|\n",
      "|  No running processes found                                                 |\n",
      "+-----------------------------------------------------------------------------+\n"
     ]
    }
   ],
   "source": [
    "!nvidia-smi"
   ]
  },
  {
   "cell_type": "code",
   "execution_count": 2,
   "metadata": {
    "id": "Pi-Swpjwadao"
   },
   "outputs": [],
   "source": [
    "import pandas as pd\n",
    "import numpy as np\n",
    "import matplotlib.pyplot as plt\n",
    "%matplotlib inline\n",
    "import seaborn as sns\n",
    "import os, shutil\n",
    "from glob import glob"
   ]
  },
  {
   "cell_type": "code",
   "execution_count": 3,
   "metadata": {
    "colab": {
     "base_uri": "https://localhost:8080/"
    },
    "id": "jXCwu9HpnsZt",
    "outputId": "caba6455-28c6-496c-9e96-1b7fa706be59"
   },
   "outputs": [
    {
     "name": "stdout",
     "output_type": "stream",
     "text": [
      "Mounted at /content/grive\n"
     ]
    }
   ],
   "source": [
    "from google.colab import drive\n",
    "drive.mount('/content/grive')"
   ]
  },
  {
   "cell_type": "code",
   "execution_count": 4,
   "metadata": {
    "id": "tLEPFkckQr0j"
   },
   "outputs": [],
   "source": [
    "import cv2\n",
    "from keras.preprocessing.image import ImageDataGenerator"
   ]
  },
  {
   "cell_type": "markdown",
   "metadata": {
    "id": "MveHtQgCRK2h"
   },
   "source": [
    "# Feature Extraction"
   ]
  },
  {
   "cell_type": "code",
   "execution_count": 5,
   "metadata": {
    "id": "aLKJmQomuGuw"
   },
   "outputs": [],
   "source": [
    "from tensorflow.keras.applications import VGG16"
   ]
  },
  {
   "cell_type": "code",
   "execution_count": 6,
   "metadata": {
    "colab": {
     "base_uri": "https://localhost:8080/"
    },
    "id": "eGh80UxRuGHw",
    "outputId": "3b0e2722-4f59-40a1-beeb-bd48f60fcd50"
   },
   "outputs": [
    {
     "name": "stdout",
     "output_type": "stream",
     "text": [
      "Downloading data from https://storage.googleapis.com/tensorflow/keras-applications/vgg16/vgg16_weights_tf_dim_ordering_tf_kernels_notop.h5\n",
      "58892288/58889256 [==============================] - 0s 0us/step\n"
     ]
    }
   ],
   "source": [
    "conv_base = VGG16(weights='imagenet', include_top=False, input_shape=(150,150,3))"
   ]
  },
  {
   "cell_type": "code",
   "execution_count": 7,
   "metadata": {
    "colab": {
     "base_uri": "https://localhost:8080/"
    },
    "id": "srfqoDTdvdt6",
    "outputId": "8ae4db73-7475-4bad-a1c5-b2d7f37e6567"
   },
   "outputs": [
    {
     "name": "stdout",
     "output_type": "stream",
     "text": [
      "Model: \"vgg16\"\n",
      "_________________________________________________________________\n",
      "Layer (type)                 Output Shape              Param #   \n",
      "=================================================================\n",
      "input_1 (InputLayer)         [(None, 150, 150, 3)]     0         \n",
      "_________________________________________________________________\n",
      "block1_conv1 (Conv2D)        (None, 150, 150, 64)      1792      \n",
      "_________________________________________________________________\n",
      "block1_conv2 (Conv2D)        (None, 150, 150, 64)      36928     \n",
      "_________________________________________________________________\n",
      "block1_pool (MaxPooling2D)   (None, 75, 75, 64)        0         \n",
      "_________________________________________________________________\n",
      "block2_conv1 (Conv2D)        (None, 75, 75, 128)       73856     \n",
      "_________________________________________________________________\n",
      "block2_conv2 (Conv2D)        (None, 75, 75, 128)       147584    \n",
      "_________________________________________________________________\n",
      "block2_pool (MaxPooling2D)   (None, 37, 37, 128)       0         \n",
      "_________________________________________________________________\n",
      "block3_conv1 (Conv2D)        (None, 37, 37, 256)       295168    \n",
      "_________________________________________________________________\n",
      "block3_conv2 (Conv2D)        (None, 37, 37, 256)       590080    \n",
      "_________________________________________________________________\n",
      "block3_conv3 (Conv2D)        (None, 37, 37, 256)       590080    \n",
      "_________________________________________________________________\n",
      "block3_pool (MaxPooling2D)   (None, 18, 18, 256)       0         \n",
      "_________________________________________________________________\n",
      "block4_conv1 (Conv2D)        (None, 18, 18, 512)       1180160   \n",
      "_________________________________________________________________\n",
      "block4_conv2 (Conv2D)        (None, 18, 18, 512)       2359808   \n",
      "_________________________________________________________________\n",
      "block4_conv3 (Conv2D)        (None, 18, 18, 512)       2359808   \n",
      "_________________________________________________________________\n",
      "block4_pool (MaxPooling2D)   (None, 9, 9, 512)         0         \n",
      "_________________________________________________________________\n",
      "block5_conv1 (Conv2D)        (None, 9, 9, 512)         2359808   \n",
      "_________________________________________________________________\n",
      "block5_conv2 (Conv2D)        (None, 9, 9, 512)         2359808   \n",
      "_________________________________________________________________\n",
      "block5_conv3 (Conv2D)        (None, 9, 9, 512)         2359808   \n",
      "_________________________________________________________________\n",
      "block5_pool (MaxPooling2D)   (None, 4, 4, 512)         0         \n",
      "=================================================================\n",
      "Total params: 14,714,688\n",
      "Trainable params: 14,714,688\n",
      "Non-trainable params: 0\n",
      "_________________________________________________________________\n"
     ]
    }
   ],
   "source": [
    "conv_base.summary()"
   ]
  },
  {
   "cell_type": "code",
   "execution_count": 8,
   "metadata": {
    "id": "Ebmh-QwbQy8T"
   },
   "outputs": [],
   "source": [
    "image_gen = ImageDataGenerator(rescale=1./255)"
   ]
  },
  {
   "cell_type": "code",
   "execution_count": 9,
   "metadata": {
    "id": "duBQHPRllXY2"
   },
   "outputs": [],
   "source": [
    "train_dir = '/content/grive/MyDrive/smalldataset/train'\n",
    "val_dir = '/content/grive/MyDrive/smalldataset/validation'\n",
    "test_dir = '/content/grive/MyDrive/smalldataset/test'"
   ]
  },
  {
   "cell_type": "code",
   "execution_count": 10,
   "metadata": {
    "id": "RV0EyGNqtQp4"
   },
   "outputs": [],
   "source": [
    "batch_size = 20\n",
    "\n",
    "def extract_features(directory, sample_count):\n",
    "    features = np.zeros(shape=(sample_count, 4, 4, 512))\n",
    "    labels = np.zeros(shape=(sample_count,3))\n",
    "    generator = image_gen.flow_from_directory(\n",
    "        directory,\n",
    "        target_size=(150, 150),\n",
    "        batch_size=batch_size,\n",
    "        class_mode='categorical')\n",
    "    i = 0\n",
    "    for inputs_batch, labels_batch in generator:\n",
    "        features_batch = conv_base.predict(inputs_batch)\n",
    "        features[i * batch_size : (i + 1) * batch_size] = features_batch\n",
    "        labels[i * batch_size : (i + 1) * batch_size] = labels_batch\n",
    "        i += 1\n",
    "        if i * batch_size >= sample_count:\n",
    "            # Note that since generators yield data indefinitely in a loop,\n",
    "            # we must `break` after every image has been seen once.\n",
    "            break\n",
    "    return features, labels"
   ]
  },
  {
   "cell_type": "code",
   "execution_count": 11,
   "metadata": {
    "colab": {
     "base_uri": "https://localhost:8080/"
    },
    "id": "cLiM_sbPtcYg",
    "outputId": "0af53c1d-7fb5-4346-f6a4-c7fb2071181c"
   },
   "outputs": [
    {
     "name": "stdout",
     "output_type": "stream",
     "text": [
      "Found 2999 images belonging to 3 classes.\n",
      "Found 1500 images belonging to 3 classes.\n",
      "Found 1500 images belonging to 3 classes.\n"
     ]
    }
   ],
   "source": [
    "train_features, train_labels = extract_features(train_dir, 2999)\n",
    "validation_features, validation_labels = extract_features(val_dir, 1500)\n",
    "test_features, test_labels = extract_features(test_dir, 1500)"
   ]
  },
  {
   "cell_type": "code",
   "execution_count": 12,
   "metadata": {
    "id": "mm5MPxf_5HdD"
   },
   "outputs": [],
   "source": [
    "train_features = np.reshape(train_features, (2999, 4*4*512))\n",
    "validation_features = np.reshape(validation_features, (1500, 4*4*512))\n",
    "test_features = np.reshape(test_features, (1500, 4*4*512))"
   ]
  },
  {
   "cell_type": "markdown",
   "metadata": {
    "id": "V8hMONqtRSdP"
   },
   "source": [
    "# Building Model"
   ]
  },
  {
   "cell_type": "code",
   "execution_count": 13,
   "metadata": {
    "id": "6Hiyz2Skr8Fp"
   },
   "outputs": [],
   "source": [
    "from keras.models import Sequential, Model, load_model\n",
    "from keras.layers import Dense, Conv2D, MaxPool2D, Flatten, Dropout\n",
    "from keras import optimizers\n",
    "from keras.callbacks import ModelCheckpoint\n"
   ]
  },
  {
   "cell_type": "code",
   "execution_count": 14,
   "metadata": {
    "id": "RPkOe2APdLqN"
   },
   "outputs": [],
   "source": [
    "model = Sequential()\n",
    "\n",
    "model.add(Dense(256, activation='relu', input_dim=(4*4*512)))\n",
    "model.add(Dropout(0.5))\n",
    "model.add(Dense(3, activation='softmax'))\n",
    "\n",
    "model.compile(loss='categorical_crossentropy',\n",
    "              optimizer='adam',\n",
    "              metrics=['accuracy'])"
   ]
  },
  {
   "cell_type": "code",
   "execution_count": 15,
   "metadata": {
    "colab": {
     "base_uri": "https://localhost:8080/"
    },
    "id": "G-OGq7TodL_m",
    "outputId": "65635f9b-51c4-4860-9a1e-656f3c3b9090"
   },
   "outputs": [
    {
     "name": "stdout",
     "output_type": "stream",
     "text": [
      "Epoch 1/30\n",
      "150/150 [==============================] - 15s 7ms/step - loss: 0.4304 - accuracy: 0.8794 - val_loss: 0.1194 - val_accuracy: 0.9633\n",
      "Epoch 2/30\n",
      "150/150 [==============================] - 1s 5ms/step - loss: 0.0547 - accuracy: 0.9827 - val_loss: 0.0415 - val_accuracy: 0.9873\n",
      "Epoch 3/30\n",
      "150/150 [==============================] - 1s 4ms/step - loss: 0.0229 - accuracy: 0.9907 - val_loss: 0.0389 - val_accuracy: 0.9887\n",
      "Epoch 4/30\n",
      "150/150 [==============================] - 1s 4ms/step - loss: 0.0138 - accuracy: 0.9969 - val_loss: 0.0250 - val_accuracy: 0.9907\n",
      "Epoch 5/30\n",
      "150/150 [==============================] - 1s 4ms/step - loss: 0.0530 - accuracy: 0.9824 - val_loss: 0.0238 - val_accuracy: 0.9893\n",
      "Epoch 6/30\n",
      "150/150 [==============================] - 1s 4ms/step - loss: 0.0153 - accuracy: 0.9947 - val_loss: 0.0295 - val_accuracy: 0.9900\n",
      "Epoch 7/30\n",
      "150/150 [==============================] - 1s 4ms/step - loss: 0.0102 - accuracy: 0.9989 - val_loss: 0.0296 - val_accuracy: 0.9900\n",
      "Epoch 8/30\n",
      "150/150 [==============================] - 1s 4ms/step - loss: 0.0117 - accuracy: 0.9968 - val_loss: 0.0361 - val_accuracy: 0.9920\n",
      "Epoch 9/30\n",
      "150/150 [==============================] - 1s 4ms/step - loss: 0.0101 - accuracy: 0.9959 - val_loss: 0.0262 - val_accuracy: 0.9920\n",
      "Epoch 10/30\n",
      "150/150 [==============================] - 1s 4ms/step - loss: 0.0101 - accuracy: 0.9964 - val_loss: 0.0657 - val_accuracy: 0.9853\n",
      "Epoch 11/30\n",
      "150/150 [==============================] - 1s 4ms/step - loss: 0.0164 - accuracy: 0.9952 - val_loss: 0.0304 - val_accuracy: 0.9927\n",
      "Epoch 12/30\n",
      "150/150 [==============================] - 1s 4ms/step - loss: 0.0029 - accuracy: 0.9995 - val_loss: 0.0248 - val_accuracy: 0.9920\n",
      "Epoch 13/30\n",
      "150/150 [==============================] - 1s 4ms/step - loss: 0.0118 - accuracy: 0.9966 - val_loss: 0.0346 - val_accuracy: 0.9927\n",
      "Epoch 14/30\n",
      "150/150 [==============================] - 1s 4ms/step - loss: 0.0081 - accuracy: 0.9979 - val_loss: 0.0781 - val_accuracy: 0.9860\n",
      "Epoch 15/30\n",
      "150/150 [==============================] - 1s 4ms/step - loss: 0.0074 - accuracy: 0.9989 - val_loss: 0.0256 - val_accuracy: 0.9927\n",
      "Epoch 16/30\n",
      "150/150 [==============================] - 1s 4ms/step - loss: 0.0337 - accuracy: 0.9888 - val_loss: 0.0414 - val_accuracy: 0.9913\n",
      "Epoch 17/30\n",
      "150/150 [==============================] - 1s 4ms/step - loss: 0.0156 - accuracy: 0.9964 - val_loss: 0.0295 - val_accuracy: 0.9900\n",
      "Epoch 18/30\n",
      "150/150 [==============================] - 1s 4ms/step - loss: 0.0059 - accuracy: 0.9978 - val_loss: 0.0217 - val_accuracy: 0.9907\n",
      "Epoch 19/30\n",
      "150/150 [==============================] - 1s 4ms/step - loss: 0.0034 - accuracy: 0.9982 - val_loss: 0.0300 - val_accuracy: 0.9927\n",
      "Epoch 20/30\n",
      "150/150 [==============================] - 1s 4ms/step - loss: 0.0103 - accuracy: 0.9951 - val_loss: 0.0274 - val_accuracy: 0.9920\n",
      "Epoch 21/30\n",
      "150/150 [==============================] - 1s 4ms/step - loss: 0.0385 - accuracy: 0.9895 - val_loss: 0.0324 - val_accuracy: 0.9900\n",
      "Epoch 22/30\n",
      "150/150 [==============================] - 1s 4ms/step - loss: 0.0348 - accuracy: 0.9916 - val_loss: 0.0299 - val_accuracy: 0.9920\n",
      "Epoch 23/30\n",
      "150/150 [==============================] - 1s 4ms/step - loss: 0.0039 - accuracy: 0.9975 - val_loss: 0.0360 - val_accuracy: 0.9913\n",
      "Epoch 24/30\n",
      "150/150 [==============================] - 1s 4ms/step - loss: 0.0014 - accuracy: 0.9995 - val_loss: 0.0548 - val_accuracy: 0.9913\n",
      "Epoch 25/30\n",
      "150/150 [==============================] - 1s 4ms/step - loss: 0.0055 - accuracy: 0.9984 - val_loss: 0.0432 - val_accuracy: 0.9900\n",
      "Epoch 26/30\n",
      "150/150 [==============================] - 1s 4ms/step - loss: 0.0041 - accuracy: 0.9986 - val_loss: 0.0323 - val_accuracy: 0.9927\n",
      "Epoch 27/30\n",
      "150/150 [==============================] - 1s 4ms/step - loss: 0.0279 - accuracy: 0.9921 - val_loss: 0.0344 - val_accuracy: 0.9927\n",
      "Epoch 28/30\n",
      "150/150 [==============================] - 1s 4ms/step - loss: 0.0076 - accuracy: 0.9981 - val_loss: 0.0303 - val_accuracy: 0.9907\n",
      "Epoch 29/30\n",
      "150/150 [==============================] - 1s 4ms/step - loss: 0.0161 - accuracy: 0.9947 - val_loss: 0.0393 - val_accuracy: 0.9900\n",
      "Epoch 30/30\n",
      "150/150 [==============================] - 1s 4ms/step - loss: 0.0034 - accuracy: 0.9984 - val_loss: 0.0391 - val_accuracy: 0.9920\n"
     ]
    }
   ],
   "source": [
    "result = model.fit(train_features, train_labels,\n",
    "                   epochs=30,\n",
    "                   batch_size=20,\n",
    "                   validation_data =(validation_features, validation_labels))"
   ]
  },
  {
   "cell_type": "code",
   "execution_count": 16,
   "metadata": {
    "id": "kODlcWMB-pRW"
   },
   "outputs": [],
   "source": [
    "model.save('model_small_1.h5')"
   ]
  },
  {
   "cell_type": "markdown",
   "metadata": {
    "id": "4DRI-JkLSLLc"
   },
   "source": [
    "# Evaluation on model"
   ]
  },
  {
   "cell_type": "code",
   "execution_count": 17,
   "metadata": {
    "colab": {
     "base_uri": "https://localhost:8080/"
    },
    "id": "RH0W9FIpSQ6H",
    "outputId": "5923d98e-ec2a-49df-be65-37ffdd103a72"
   },
   "outputs": [
    {
     "data": {
      "text/plain": [
       "[0.9499832987785339,\n",
       " 0.9839946627616882,\n",
       " 0.9903301000595093,\n",
       " 0.994331419467926,\n",
       " 0.9896632432937622,\n",
       " 0.994331419467926,\n",
       " 0.9983327984809875,\n",
       " 0.9966655373573303,\n",
       " 0.9966655373573303,\n",
       " 0.9953317642211914,\n",
       " 0.9956651926040649,\n",
       " 0.9986662268638611,\n",
       " 0.9946649074554443,\n",
       " 0.9966655373573303,\n",
       " 0.9969990253448486,\n",
       " 0.9903301000595093,\n",
       " 0.9966655373573303,\n",
       " 0.9983327984809875,\n",
       " 0.9983327984809875,\n",
       " 0.9966655373573303,\n",
       " 0.9883294701576233,\n",
       " 0.9939979910850525,\n",
       " 0.9979993104934692,\n",
       " 0.9993330836296082,\n",
       " 0.9983327984809875,\n",
       " 0.9983327984809875,\n",
       " 0.9926642179489136,\n",
       " 0.9973324537277222,\n",
       " 0.9969990253448486,\n",
       " 0.9976658821105957]"
      ]
     },
     "execution_count": 17,
     "metadata": {
      "tags": []
     },
     "output_type": "execute_result"
    }
   ],
   "source": [
    "result.history['accuracy']"
   ]
  },
  {
   "cell_type": "code",
   "execution_count": 18,
   "metadata": {
    "colab": {
     "base_uri": "https://localhost:8080/",
     "height": 282
    },
    "id": "DtHMy3QJSQEn",
    "outputId": "4eb8d983-367f-47ee-fc33-013504883956"
   },
   "outputs": [
    {
     "data": {
      "text/plain": [
       "[<matplotlib.lines.Line2D at 0x7efdba5f9ad0>]"
      ]
     },
     "execution_count": 18,
     "metadata": {
      "tags": []
     },
     "output_type": "execute_result"
    },
    {
     "data": {
      "image/png": "[encoded data removed]",
      "text/plain": [
       "<Figure size 432x288 with 1 Axes>"
      ]
     },
     "metadata": {
      "needs_background": "light",
      "tags": []
     },
     "output_type": "display_data"
    }
   ],
   "source": [
    "plt.plot(result.history['accuracy'])"
   ]
  },
  {
   "cell_type": "code",
   "execution_count": 19,
   "metadata": {
    "colab": {
     "base_uri": "https://localhost:8080/",
     "height": 265
    },
    "id": "J1v--WfdTQTF",
    "outputId": "92c3b0a5-c508-4ea5-bc3e-9960ded47d32"
   },
   "outputs": [
    {
     "data": {
      "image/png": "[encoded data removed]",
      "text/plain": [
       "<Figure size 720x288 with 2 Axes>"
      ]
     },
     "metadata": {
      "needs_background": "light",
      "tags": []
     },
     "output_type": "display_data"
    }
   ],
   "source": [
    "plt.figure(figsize=(10,4))\n",
    "plt.subplot(1,2,1)\n",
    "\n",
    "plt.plot(result.history['accuracy'], label='train accuracy', color='red')\n",
    "plt.plot(result.history['val_accuracy'], label='validation accuracy', color='blue')\n",
    "plt.legend()\n",
    "\n",
    "plt.subplot(1,2,2)\n",
    "plt.plot(result.history['loss'], label='train loss', color='red')\n",
    "plt.plot(result.history['val_loss'], label='validation loss', color='blue')\n",
    "plt.legend()\n",
    "\n",
    "plt.show()"
   ]
  },
  {
   "cell_type": "code",
   "execution_count": 36,
   "metadata": {
    "colab": {
     "base_uri": "https://localhost:8080/"
    },
    "id": "d-XzbCt-NOj6",
    "outputId": "7b4d229e-a950-4928-ce08-c982ef8cad57"
   },
   "outputs": [
    {
     "name": "stderr",
     "output_type": "stream",
     "text": [
      "/usr/local/lib/python3.7/dist-packages/keras/engine/sequential.py:450: UserWarning: `model.predict_classes()` is deprecated and will be removed after 2021-01-01. Please use instead:* `np.argmax(model.predict(x), axis=-1)`,   if your model does multi-class classification   (e.g. if it uses a `softmax` last-layer activation).* `(model.predict(x) > 0.5).astype(\"int32\")`,   if your model does binary classification   (e.g. if it uses a `sigmoid` last-layer activation).\n",
      "  warnings.warn('`model.predict_classes()` is deprecated and '\n"
     ]
    }
   ],
   "source": [
    "# pred_probs = model.predict(test_features, verbose=0)\n",
    "pred_classes = model.predict_classes(test_features, verbose=0)\n",
    "\n",
    "from numpy import argmax\n",
    "from keras.utils.np_utils import to_categorical\n",
    "pred = argmax(to_categorical(pred_classes, 3 ), axis=1)\n",
    "labels = argmax(test_labels,axis=1)"
   ]
  },
  {
   "cell_type": "code",
   "execution_count": 70,
   "metadata": {
    "colab": {
     "base_uri": "https://localhost:8080/"
    },
    "id": "fm7iuGloNObz",
    "outputId": "f2ad6f75-7665-420f-922c-99ee039cdffb"
   },
   "outputs": [
    {
     "data": {
      "text/plain": [
       "array([[500,   0,   0],\n",
       "       [  2, 497,   1],\n",
       "       [  2,   3, 495]])"
      ]
     },
     "execution_count": 70,
     "metadata": {
      "tags": []
     },
     "output_type": "execute_result"
    }
   ],
   "source": [
    "from sklearn.metrics import confusion_matrix, classification_report, accuracy_score\n",
    "confusion_matrix(labels, pred)"
   ]
  },
  {
   "cell_type": "code",
   "execution_count": 72,
   "metadata": {
    "colab": {
     "base_uri": "https://localhost:8080/"
    },
    "id": "ZZTbf_gYNORy",
    "outputId": "de942432-bc56-4e05-d006-b7a3d08084c3"
   },
   "outputs": [
    {
     "name": "stdout",
     "output_type": "stream",
     "text": [
      "              precision    recall  f1-score   support\n",
      "\n",
      "           0       0.99      1.00      1.00       500\n",
      "           1       0.99      0.99      0.99       500\n",
      "           2       1.00      0.99      0.99       500\n",
      "\n",
      "    accuracy                           0.99      1500\n",
      "   macro avg       0.99      0.99      0.99      1500\n",
      "weighted avg       0.99      0.99      0.99      1500\n",
      "\n"
     ]
    }
   ],
   "source": [
    "print(classification_report(labels, pred))"
   ]
  },
  {
   "cell_type": "code",
   "execution_count": 73,
   "metadata": {
    "colab": {
     "base_uri": "https://localhost:8080/",
     "height": 513
    },
    "id": "7x_JQYwMQz2g",
    "outputId": "d55fb6c0-d178-43dc-ecf8-bf8188586093"
   },
   "outputs": [
    {
     "data": {
      "image/png": "[encoded data removed]",
      "text/plain": [
       "<Figure size 2520x504 with 2 Axes>"
      ]
     },
     "metadata": {
      "needs_background": "light",
      "tags": []
     },
     "output_type": "display_data"
    }
   ],
   "source": [
    "plt.figure(figsize=(35,7))\n",
    "plt.subplot(131)\n",
    "ax = sns.heatmap(confusion_matrix(labels, pred.round()),\n",
    "            annot = True, annot_kws={\"size\":20}, fmt=\"d\",cmap = \"Blues\")\n",
    "\n",
    "plt.title('Confusion Matrix', size=25)\n",
    "plt.xlabel('Predicted Outcome', size=20)\n",
    "plt.ylabel('Actual Outcome', size=20)\n",
    "labels = ['Incorrect Mask', 'Mask', 'No Mask']\n",
    "ax.set_xticklabels(labels, size=15)\n",
    "ax.set_yticklabels(labels, size=15)\n",
    "plt.tight_layout()\n",
    "plt.show();"
   ]
  },
  {
   "cell_type": "code",
   "execution_count": null,
   "metadata": {
    "id": "D18kY0khCeDN"
   },
   "outputs": [],
   "source": []
  }
 ],
 "metadata": {
  "accelerator": "GPU",
  "colab": {
   "collapsed_sections": [],
   "machine_shape": "hm",
   "name": "multiclass_model_small.ipynb",
   "provenance": []
  },
  "kernelspec": {
   "display_name": "Python 3",
   "language": "python",
   "name": "python3"
  },
  "language_info": {
   "codemirror_mode": {
    "name": "ipython",
    "version": 3
   },
   "file_extension": ".py",
   "mimetype": "text/x-python",
   "name": "python",
   "nbconvert_exporter": "python",
   "pygments_lexer": "ipython3",
   "version": "3.8.8"
  }
 },
 "nbformat": 4,
 "nbformat_minor": 4
}
