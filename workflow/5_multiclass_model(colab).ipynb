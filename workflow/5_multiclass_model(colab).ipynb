{
 "cells": [
  {
   "cell_type": "code",
   "execution_count": 1,
   "metadata": {
    "colab": {
     "base_uri": "https://localhost:8080/"
    },
    "id": "-pwN7X5sVgjL",
    "outputId": "80e96363-3efa-4af2-836f-93128d1cf548"
   },
   "outputs": [
    {
     "name": "stdout",
     "output_type": "stream",
     "text": [
      "Tue Jun  8 16:24:44 2021       \n",
      "+-----------------------------------------------------------------------------+\n",
      "| NVIDIA-SMI 465.27       Driver Version: 460.32.03    CUDA Version: 11.2     |\n",
      "|-------------------------------+----------------------+----------------------+\n",
      "| GPU  Name        Persistence-M| Bus-Id        Disp.A | Volatile Uncorr. ECC |\n",
      "| Fan  Temp  Perf  Pwr:Usage/Cap|         Memory-Usage | GPU-Util  Compute M. |\n",
      "|                               |                      |               MIG M. |\n",
      "|===============================+======================+======================|\n",
      "|   0  Tesla P100-PCIE...  Off  | 00000000:00:04.0 Off |                    0 |\n",
      "| N/A   38C    P0    27W / 250W |      0MiB / 16280MiB |      0%      Default |\n",
      "|                               |                      |                  N/A |\n",
      "+-------------------------------+----------------------+----------------------+\n",
      "                                                                               \n",
      "+-----------------------------------------------------------------------------+\n",
      "| Processes:                                                                  |\n",
      "|  GPU   GI   CI        PID   Type   Process name                  GPU Memory |\n",
      "|        ID   ID                                                   Usage      |\n",
      "|=============================================================================|\n",
      "|  No running processes found                                                 |\n",
      "+-----------------------------------------------------------------------------+\n"
     ]
    }
   ],
   "source": [
    "!nvidia-smi"
   ]
  },
  {
   "cell_type": "code",
   "execution_count": 2,
   "metadata": {
    "id": "Pi-Swpjwadao"
   },
   "outputs": [],
   "source": [
    "import pandas as pd\n",
    "import numpy as np\n",
    "import matplotlib.pyplot as plt\n",
    "%matplotlib inline\n",
    "import seaborn as sns\n",
    "import os, shutil\n",
    "from glob import glob"
   ]
  },
  {
   "cell_type": "code",
   "execution_count": 3,
   "metadata": {
    "colab": {
     "base_uri": "https://localhost:8080/"
    },
    "id": "jXCwu9HpnsZt",
    "outputId": "5932fc58-ded4-45e6-b360-093ca3de981f"
   },
   "outputs": [
    {
     "name": "stdout",
     "output_type": "stream",
     "text": [
      "Drive already mounted at /content/grive; to attempt to forcibly remount, call drive.mount(\"/content/grive\", force_remount=True).\n"
     ]
    }
   ],
   "source": [
    "from google.colab import drive\n",
    "drive.mount('/content/grive')"
   ]
  },
  {
   "cell_type": "code",
   "execution_count": 4,
   "metadata": {
    "id": "tLEPFkckQr0j"
   },
   "outputs": [],
   "source": [
    "import cv2\n",
    "from keras.preprocessing.image import ImageDataGenerator"
   ]
  },
  {
   "cell_type": "markdown",
   "metadata": {
    "id": "MveHtQgCRK2h"
   },
   "source": [
    "# Preprocessing images"
   ]
  },
  {
   "cell_type": "code",
   "execution_count": 5,
   "metadata": {
    "id": "Ebmh-QwbQy8T"
   },
   "outputs": [],
   "source": [
    "image_gen = ImageDataGenerator(rescale=1./255)"
   ]
  },
  {
   "cell_type": "code",
   "execution_count": 6,
   "metadata": {
    "id": "duBQHPRllXY2"
   },
   "outputs": [],
   "source": [
    "train_dir = '/content/grive/MyDrive/Face Mask Dataset/Train'\n",
    "val_dir = '/content/grive/MyDrive/Face Mask Dataset/Validation'\n",
    "test_dir = '/content/grive/MyDrive/Face Mask Dataset/Test'"
   ]
  },
  {
   "cell_type": "code",
   "execution_count": 7,
   "metadata": {
    "colab": {
     "base_uri": "https://localhost:8080/"
    },
    "id": "upJgGdKcpU6Q",
    "outputId": "f92b2d0d-ac5d-4285-d6a9-4637c6ce7466"
   },
   "outputs": [
    {
     "name": "stdout",
     "output_type": "stream",
     "text": [
      "Found 15000 images belonging to 3 classes.\n",
      "Found 1200 images belonging to 3 classes.\n",
      "Found 1490 images belonging to 3 classes.\n"
     ]
    }
   ],
   "source": [
    "batch_size = 80\n",
    "train_generator = image_gen.flow_from_directory(train_dir,\n",
    "                                          target_size=(150,150),\n",
    "                                          batch_size=batch_size,\n",
    "                                          seed=42,\n",
    "                                          shuffle=False,\n",
    "                                          class_mode='categorical')\n",
    "val_generator = image_gen.flow_from_directory(val_dir,\n",
    "                                        target_size=(150,150),\n",
    "                                        batch_size=batch_size,\n",
    "                                        seed=42,\n",
    "                                        shuffle=False,\n",
    "                                        class_mode='categorical')\n",
    "test_generator = image_gen.flow_from_directory(test_dir,\n",
    "                                        target_size=(150,150),\n",
    "                                        batch_size=batch_size,\n",
    "                                        seed=42,\n",
    "                                        shuffle=False,\n",
    "                                        class_mode='categorical')"
   ]
  },
  {
   "cell_type": "markdown",
   "metadata": {
    "id": "V8hMONqtRSdP"
   },
   "source": [
    "# Building CNN Model"
   ]
  },
  {
   "cell_type": "code",
   "execution_count": 8,
   "metadata": {
    "id": "6Hiyz2Skr8Fp"
   },
   "outputs": [],
   "source": [
    "from keras.models import Sequential, Model, load_model\n",
    "from keras.layers import Dense, Conv2D, MaxPool2D, Flatten, Dropout\n",
    "from keras import optimizers\n",
    "from keras.callbacks import ModelCheckpoint\n"
   ]
  },
  {
   "cell_type": "code",
   "execution_count": 9,
   "metadata": {
    "id": "RPkOe2APdLqN"
   },
   "outputs": [],
   "source": [
    "model = Sequential()\n",
    "\n",
    "model.add(Conv2D(32, (3, 3), input_shape=(150,150,3), activation='relu'))\n",
    "model.add(MaxPool2D((2,2)))\n",
    "\n",
    "model.add(Conv2D(64, (3,3),activation='relu'))\n",
    "model.add(MaxPool2D((2,2)))\n",
    "\n",
    "model.add(Conv2D(128, (3,3),activation='relu'))\n",
    "model.add(MaxPool2D((2,2)))\n",
    "\n",
    "model.add(Conv2D(128, (3,3),activation='relu'))\n",
    "model.add(MaxPool2D((2,2)))\n",
    "\n",
    "model.add(Flatten())\n",
    "model.add(Dense(512, activation='relu'))\n",
    "model.add(Dense(3, activation='softmax'))\n",
    "\n",
    "model.compile(loss='categorical_crossentropy',\n",
    "              optimizer='adam',\n",
    "              metrics=['accuracy'])"
   ]
  },
  {
   "cell_type": "code",
   "execution_count": 10,
   "metadata": {
    "colab": {
     "base_uri": "https://localhost:8080/"
    },
    "id": "psmX4o2ddL0g",
    "outputId": "b5872425-8865-4b50-ee84-5fe0559d99e4"
   },
   "outputs": [
    {
     "name": "stdout",
     "output_type": "stream",
     "text": [
      "Model: \"sequential\"\n",
      "_________________________________________________________________\n",
      "Layer (type)                 Output Shape              Param #   \n",
      "=================================================================\n",
      "conv2d (Conv2D)              (None, 148, 148, 32)      896       \n",
      "_________________________________________________________________\n",
      "max_pooling2d (MaxPooling2D) (None, 74, 74, 32)        0         \n",
      "_________________________________________________________________\n",
      "conv2d_1 (Conv2D)            (None, 72, 72, 64)        18496     \n",
      "_________________________________________________________________\n",
      "max_pooling2d_1 (MaxPooling2 (None, 36, 36, 64)        0         \n",
      "_________________________________________________________________\n",
      "conv2d_2 (Conv2D)            (None, 34, 34, 128)       73856     \n",
      "_________________________________________________________________\n",
      "max_pooling2d_2 (MaxPooling2 (None, 17, 17, 128)       0         \n",
      "_________________________________________________________________\n",
      "conv2d_3 (Conv2D)            (None, 15, 15, 128)       147584    \n",
      "_________________________________________________________________\n",
      "max_pooling2d_3 (MaxPooling2 (None, 7, 7, 128)         0         \n",
      "_________________________________________________________________\n",
      "flatten (Flatten)            (None, 6272)              0         \n",
      "_________________________________________________________________\n",
      "dense (Dense)                (None, 512)               3211776   \n",
      "_________________________________________________________________\n",
      "dense_1 (Dense)              (None, 3)                 1539      \n",
      "=================================================================\n",
      "Total params: 3,454,147\n",
      "Trainable params: 3,454,147\n",
      "Non-trainable params: 0\n",
      "_________________________________________________________________\n"
     ]
    }
   ],
   "source": [
    "model.summary()"
   ]
  },
  {
   "cell_type": "code",
   "execution_count": 11,
   "metadata": {
    "colab": {
     "base_uri": "https://localhost:8080/"
    },
    "id": "wruTma5t9SHS",
    "outputId": "e54aa448-54e1-40d8-8fd3-fa13334c43fb"
   },
   "outputs": [
    {
     "name": "stderr",
     "output_type": "stream",
     "text": [
      "/usr/local/lib/python3.7/dist-packages/keras/engine/training.py:1915: UserWarning: `Model.fit_generator` is deprecated and will be removed in a future version. Please use `Model.fit`, which supports generators.\n",
      "  warnings.warn('`Model.fit_generator` is deprecated and '\n"
     ]
    },
    {
     "name": "stdout",
     "output_type": "stream",
     "text": [
      "Epoch 1/30\n",
      "187/187 [==============================] - 126s 591ms/step - loss: 1.1484 - accuracy: 0.3561 - val_loss: 0.2274 - val_accuracy: 0.9167\n",
      "Epoch 2/30\n",
      "187/187 [==============================] - 110s 586ms/step - loss: 0.2836 - accuracy: 0.8906 - val_loss: 0.0885 - val_accuracy: 0.9725\n",
      "Epoch 3/30\n",
      "187/187 [==============================] - 109s 586ms/step - loss: 0.1163 - accuracy: 0.9608 - val_loss: 0.0626 - val_accuracy: 0.9783\n",
      "Epoch 4/30\n",
      "187/187 [==============================] - 109s 585ms/step - loss: 0.0898 - accuracy: 0.9680 - val_loss: 0.0527 - val_accuracy: 0.9850\n",
      "Epoch 5/30\n",
      "187/187 [==============================] - 109s 584ms/step - loss: 0.0580 - accuracy: 0.9803 - val_loss: 0.0417 - val_accuracy: 0.9850\n",
      "Epoch 6/30\n",
      "187/187 [==============================] - 110s 583ms/step - loss: 0.0480 - accuracy: 0.9835 - val_loss: 0.0229 - val_accuracy: 0.9942\n",
      "Epoch 7/30\n",
      "187/187 [==============================] - 111s 590ms/step - loss: 0.0455 - accuracy: 0.9838 - val_loss: 0.0629 - val_accuracy: 0.9792\n",
      "Epoch 8/30\n",
      "187/187 [==============================] - 109s 585ms/step - loss: 0.0497 - accuracy: 0.9798 - val_loss: 0.0182 - val_accuracy: 0.9950\n",
      "Epoch 9/30\n",
      "187/187 [==============================] - 110s 587ms/step - loss: 0.0227 - accuracy: 0.9922 - val_loss: 0.0123 - val_accuracy: 0.9967\n",
      "Epoch 10/30\n",
      "187/187 [==============================] - 110s 586ms/step - loss: 0.0212 - accuracy: 0.9919 - val_loss: 0.0149 - val_accuracy: 0.9933\n",
      "Epoch 11/30\n",
      "187/187 [==============================] - 110s 580ms/step - loss: 0.0153 - accuracy: 0.9948 - val_loss: 0.0108 - val_accuracy: 0.9975\n",
      "Epoch 12/30\n",
      "187/187 [==============================] - 109s 580ms/step - loss: 0.0108 - accuracy: 0.9965 - val_loss: 0.0110 - val_accuracy: 0.9967\n",
      "Epoch 13/30\n",
      "187/187 [==============================] - 109s 579ms/step - loss: 0.0100 - accuracy: 0.9964 - val_loss: 0.0107 - val_accuracy: 0.9950\n",
      "Epoch 14/30\n",
      "187/187 [==============================] - 109s 584ms/step - loss: 0.0118 - accuracy: 0.9962 - val_loss: 0.0109 - val_accuracy: 0.9967\n",
      "Epoch 15/30\n",
      "187/187 [==============================] - 110s 586ms/step - loss: 0.0064 - accuracy: 0.9977 - val_loss: 0.0145 - val_accuracy: 0.9958\n",
      "Epoch 16/30\n",
      "187/187 [==============================] - 109s 586ms/step - loss: 0.0192 - accuracy: 0.9943 - val_loss: 0.0174 - val_accuracy: 0.9933\n",
      "Epoch 17/30\n",
      "187/187 [==============================] - 109s 586ms/step - loss: 0.0151 - accuracy: 0.9941 - val_loss: 0.0109 - val_accuracy: 0.9983\n",
      "Epoch 18/30\n",
      "187/187 [==============================] - 110s 588ms/step - loss: 0.0062 - accuracy: 0.9979 - val_loss: 0.0039 - val_accuracy: 0.9983\n",
      "Epoch 19/30\n",
      "187/187 [==============================] - 110s 582ms/step - loss: 0.0035 - accuracy: 0.9986 - val_loss: 0.0070 - val_accuracy: 0.9983\n",
      "Epoch 20/30\n",
      "187/187 [==============================] - 110s 582ms/step - loss: 0.0141 - accuracy: 0.9959 - val_loss: 0.0042 - val_accuracy: 0.9983\n",
      "Epoch 21/30\n",
      "187/187 [==============================] - 110s 588ms/step - loss: 0.0055 - accuracy: 0.9980 - val_loss: 0.0061 - val_accuracy: 0.9967\n",
      "Epoch 22/30\n",
      "187/187 [==============================] - 111s 593ms/step - loss: 0.0081 - accuracy: 0.9976 - val_loss: 0.0089 - val_accuracy: 0.9967\n",
      "Epoch 23/30\n",
      "187/187 [==============================] - 111s 593ms/step - loss: 0.0027 - accuracy: 0.9994 - val_loss: 0.0052 - val_accuracy: 0.9983\n",
      "Epoch 24/30\n",
      "187/187 [==============================] - 111s 588ms/step - loss: 5.0615e-04 - accuracy: 1.0000 - val_loss: 0.0083 - val_accuracy: 0.9975\n",
      "Epoch 25/30\n",
      "187/187 [==============================] - 113s 596ms/step - loss: 0.0013 - accuracy: 0.9997 - val_loss: 0.0106 - val_accuracy: 0.9950\n",
      "Epoch 26/30\n",
      "187/187 [==============================] - 113s 604ms/step - loss: 0.0290 - accuracy: 0.9911 - val_loss: 0.0326 - val_accuracy: 0.9892\n",
      "Epoch 27/30\n",
      "187/187 [==============================] - 113s 605ms/step - loss: 0.0139 - accuracy: 0.9956 - val_loss: 0.0053 - val_accuracy: 0.9992\n",
      "Epoch 28/30\n",
      "187/187 [==============================] - 110s 590ms/step - loss: 0.0034 - accuracy: 0.9990 - val_loss: 0.0091 - val_accuracy: 0.9958\n",
      "Epoch 29/30\n",
      "187/187 [==============================] - 112s 600ms/step - loss: 0.0021 - accuracy: 0.9994 - val_loss: 0.0048 - val_accuracy: 0.9975\n",
      "Epoch 30/30\n",
      "187/187 [==============================] - 109s 584ms/step - loss: 5.4178e-04 - accuracy: 1.0000 - val_loss: 0.0071 - val_accuracy: 0.9967\n"
     ]
    }
   ],
   "source": [
    "result = model.fit_generator(train_generator, \n",
    "                             validation_data=val_generator,\n",
    "                             epochs=30,\n",
    "                             steps_per_epoch=(len(train_generator.labels)/80),\n",
    "                             validation_steps=(len(val_generator.labels)/80)\n",
    "                             )"
   ]
  },
  {
   "cell_type": "code",
   "execution_count": 12,
   "metadata": {
    "id": "kODlcWMB-pRW"
   },
   "outputs": [],
   "source": [
    "model.save('multiclass_baseline.h5')"
   ]
  },
  {
   "cell_type": "markdown",
   "metadata": {
    "id": "4DRI-JkLSLLc"
   },
   "source": [
    "# Evaluation on model"
   ]
  },
  {
   "cell_type": "code",
   "execution_count": 13,
   "metadata": {
    "colab": {
     "base_uri": "https://localhost:8080/"
    },
    "id": "RH0W9FIpSQ6H",
    "outputId": "704d13ac-4a69-4eaf-aa7c-f3105818fdf8"
   },
   "outputs": [
    {
     "data": {
      "text/plain": [
       "[0.5403333306312561,\n",
       " 0.9219333529472351,\n",
       " 0.9621999859809875,\n",
       " 0.9646666646003723,\n",
       " 0.9800666570663452,\n",
       " 0.9862666726112366,\n",
       " 0.9756666421890259,\n",
       " 0.9838666915893555,\n",
       " 0.9918666481971741,\n",
       " 0.9927999973297119,\n",
       " 0.9947333335876465,\n",
       " 0.995199978351593,\n",
       " 0.9957333207130432,\n",
       " 0.9968000054359436,\n",
       " 0.998533308506012,\n",
       " 0.993399977684021,\n",
       " 0.9954000115394592,\n",
       " 0.9983333349227905,\n",
       " 0.9977333545684814,\n",
       " 0.996066689491272,\n",
       " 0.9982666373252869,\n",
       " 0.996399998664856,\n",
       " 0.9992666840553284,\n",
       " 0.9999333620071411,\n",
       " 0.9990666508674622,\n",
       " 0.982200026512146,\n",
       " 0.9965999722480774,\n",
       " 0.9987999796867371,\n",
       " 0.999666690826416,\n",
       " 1.0]"
      ]
     },
     "execution_count": 13,
     "metadata": {
      "tags": []
     },
     "output_type": "execute_result"
    }
   ],
   "source": [
    "result.history['accuracy']"
   ]
  },
  {
   "cell_type": "code",
   "execution_count": 14,
   "metadata": {
    "colab": {
     "base_uri": "https://localhost:8080/",
     "height": 282
    },
    "id": "DtHMy3QJSQEn",
    "outputId": "3490f736-f954-4562-e9dd-084dfbca85b7"
   },
   "outputs": [
    {
     "data": {
      "text/plain": [
       "[<matplotlib.lines.Line2D at 0x7f30f6959150>]"
      ]
     },
     "execution_count": 14,
     "metadata": {
      "tags": []
     },
     "output_type": "execute_result"
    },
    {
     "data": {
      "image/png": "[encoded data removed]",
      "text/plain": [
       "<Figure size 432x288 with 1 Axes>"
      ]
     },
     "metadata": {
      "needs_background": "light",
      "tags": []
     },
     "output_type": "display_data"
    }
   ],
   "source": [
    "plt.plot(result.history['accuracy'])"
   ]
  },
  {
   "cell_type": "code",
   "execution_count": 15,
   "metadata": {
    "colab": {
     "base_uri": "https://localhost:8080/"
    },
    "id": "9_QlTYFTqNI8",
    "outputId": "02dbe539-53bd-4f10-a015-514ce0daf2d7"
   },
   "outputs": [
    {
     "data": {
      "text/plain": [
       "[0.9166666865348816,\n",
       " 0.9725000262260437,\n",
       " 0.9783333539962769,\n",
       " 0.9850000143051147,\n",
       " 0.9850000143051147,\n",
       " 0.9941666722297668,\n",
       " 0.9791666865348816,\n",
       " 0.9950000047683716,\n",
       " 0.996666669845581,\n",
       " 0.9933333396911621,\n",
       " 0.9975000023841858,\n",
       " 0.996666669845581,\n",
       " 0.9950000047683716,\n",
       " 0.996666669845581,\n",
       " 0.9958333373069763,\n",
       " 0.9933333396911621,\n",
       " 0.9983333349227905,\n",
       " 0.9983333349227905,\n",
       " 0.9983333349227905,\n",
       " 0.9983333349227905,\n",
       " 0.996666669845581,\n",
       " 0.996666669845581,\n",
       " 0.9983333349227905,\n",
       " 0.9975000023841858,\n",
       " 0.9950000047683716,\n",
       " 0.9891666769981384,\n",
       " 0.9991666674613953,\n",
       " 0.9958333373069763,\n",
       " 0.9975000023841858,\n",
       " 0.996666669845581]"
      ]
     },
     "execution_count": 15,
     "metadata": {
      "tags": []
     },
     "output_type": "execute_result"
    }
   ],
   "source": [
    "result.history['val_accuracy']"
   ]
  },
  {
   "cell_type": "code",
   "execution_count": 16,
   "metadata": {
    "colab": {
     "base_uri": "https://localhost:8080/",
     "height": 265
    },
    "id": "J1v--WfdTQTF",
    "outputId": "4a01d16d-3197-43df-c98b-2794aba76e4c"
   },
   "outputs": [
    {
     "data": {
      "image/png": "[encoded data removed]",
      "text/plain": [
       "<Figure size 720x288 with 2 Axes>"
      ]
     },
     "metadata": {
      "needs_background": "light",
      "tags": []
     },
     "output_type": "display_data"
    }
   ],
   "source": [
    "plt.figure(figsize=(10,4))\n",
    "plt.subplot(1,2,1)\n",
    "\n",
    "plt.plot(result.history['accuracy'], label='train accuracy', color='red')\n",
    "plt.plot(result.history['val_accuracy'], label='validation accuracy', color='blue')\n",
    "plt.legend()\n",
    "\n",
    "plt.subplot(1,2,2)\n",
    "plt.plot(result.history['loss'], label='train loss', color='red')\n",
    "plt.plot(result.history['val_loss'], label='validation loss', color='blue')\n",
    "plt.legend()\n",
    "\n",
    "plt.show()"
   ]
  },
  {
   "cell_type": "code",
   "execution_count": 17,
   "metadata": {
    "id": "rfOD9wR37nwL"
   },
   "outputs": [],
   "source": [
    "from sklearn.metrics import confusion_matrix, classification_report"
   ]
  },
  {
   "cell_type": "code",
   "execution_count": 18,
   "metadata": {
    "colab": {
     "base_uri": "https://localhost:8080/"
    },
    "id": "2MRzEEqBEgjc",
    "outputId": "92426973-1d8c-46df-b3d7-dc9559786ce3"
   },
   "outputs": [
    {
     "name": "stderr",
     "output_type": "stream",
     "text": [
      "/usr/local/lib/python3.7/dist-packages/keras/engine/sequential.py:450: UserWarning: `model.predict_classes()` is deprecated and will be removed after 2021-01-01. Please use instead:* `np.argmax(model.predict(x), axis=-1)`,   if your model does multi-class classification   (e.g. if it uses a `softmax` last-layer activation).* `(model.predict(x) > 0.5).astype(\"int32\")`,   if your model does binary classification   (e.g. if it uses a `sigmoid` last-layer activation).\n",
      "  warnings.warn('`model.predict_classes()` is deprecated and '\n"
     ]
    }
   ],
   "source": [
    "prediction = model.predict_classes(test_generator)\n",
    "y_true = test_generator.labels"
   ]
  },
  {
   "cell_type": "code",
   "execution_count": 19,
   "metadata": {
    "colab": {
     "base_uri": "https://localhost:8080/"
    },
    "id": "2geMkmUeTwRn",
    "outputId": "105d82af-3030-4b36-83e0-91e81e3ebb3e"
   },
   "outputs": [
    {
     "data": {
      "text/plain": [
       "{'IncorrectMask': 0, 'WithMask': 1, 'WithoutMask': 2}"
      ]
     },
     "execution_count": 19,
     "metadata": {
      "tags": []
     },
     "output_type": "execute_result"
    }
   ],
   "source": [
    "train_generator.class_indices"
   ]
  },
  {
   "cell_type": "code",
   "execution_count": 20,
   "metadata": {
    "colab": {
     "base_uri": "https://localhost:8080/"
    },
    "id": "kciIA1sQ7-tt",
    "outputId": "1bd2b3e6-17ea-441f-ab4f-104a5e401001"
   },
   "outputs": [
    {
     "data": {
      "text/plain": [
       "array([[497,   1,   0],\n",
       "       [  0, 479,   4],\n",
       "       [  0,   3, 506]])"
      ]
     },
     "execution_count": 20,
     "metadata": {
      "tags": []
     },
     "output_type": "execute_result"
    }
   ],
   "source": [
    "confusion_matrix(y_true, prediction)"
   ]
  },
  {
   "cell_type": "code",
   "execution_count": 21,
   "metadata": {
    "colab": {
     "base_uri": "https://localhost:8080/",
     "height": 513
    },
    "id": "jaHTRDKyTgAN",
    "outputId": "8d256b43-95cc-4578-d56e-703ecf35be54"
   },
   "outputs": [
    {
     "data": {
      "image/png": "[encoded data removed]",
      "text/plain": [
       "<Figure size 2520x504 with 2 Axes>"
      ]
     },
     "metadata": {
      "needs_background": "light",
      "tags": []
     },
     "output_type": "display_data"
    }
   ],
   "source": [
    "plt.figure(figsize=(35,7))\n",
    "plt.subplot(131)\n",
    "ax = sns.heatmap(confusion_matrix(test_generator.labels, prediction.round()),\n",
    "            annot = True, annot_kws={\"size\":20}, fmt=\"d\",cmap = \"Blues\")\n",
    "# cmlabels = ['True Negatives', \"False Positives\",\n",
    "#                'Flase Negatives', \"True Positives\"]\n",
    "# for i,t in enumerate(ax.texts):\n",
    "#   t.set_text(t.get_text() + \"\\n\" + cmlabels[i])\n",
    "plt.title('Confusion Matrix', size=25)\n",
    "plt.xlabel('Predicted Outcome', size=20)\n",
    "plt.ylabel('Actual Outcome', size=20)\n",
    "labels = ['Incorrect Mask', 'Mask', 'No Mask']\n",
    "ax.set_xticklabels(labels, size=15)\n",
    "ax.set_yticklabels(labels, size=15)\n",
    "plt.tight_layout()\n",
    "plt.show();"
   ]
  },
  {
   "cell_type": "code",
   "execution_count": 22,
   "metadata": {
    "colab": {
     "base_uri": "https://localhost:8080/"
    },
    "id": "evN2NOGZ-S7n",
    "outputId": "bcba091b-e675-4c50-e7e3-c5e7844c5333"
   },
   "outputs": [
    {
     "name": "stdout",
     "output_type": "stream",
     "text": [
      "              precision    recall  f1-score   support\n",
      "\n",
      "           0       1.00      1.00      1.00       498\n",
      "           1       0.99      0.99      0.99       483\n",
      "           2       0.99      0.99      0.99       509\n",
      "\n",
      "    accuracy                           0.99      1490\n",
      "   macro avg       0.99      0.99      0.99      1490\n",
      "weighted avg       0.99      0.99      0.99      1490\n",
      "\n"
     ]
    }
   ],
   "source": [
    "print(classification_report(y_true, prediction))"
   ]
  },
  {
   "cell_type": "code",
   "execution_count": 30,
   "metadata": {
    "colab": {
     "base_uri": "https://localhost:8080/"
    },
    "id": "8aqTfJxFZTcI",
    "outputId": "e650e001-c012-4e88-e119-d61a67c3d65b"
   },
   "outputs": [
    {
     "name": "stdout",
     "output_type": "stream",
     "text": [
      "Accuracy: 0.994631\n",
      "Precision: 0.994625\n",
      "Recall: 0.994605\n",
      "F1 score: 0.994615\n"
     ]
    }
   ],
   "source": [
    "from sklearn.metrics import accuracy_score\n",
    "from sklearn.metrics import precision_score\n",
    "from sklearn.metrics import recall_score\n",
    "from sklearn.metrics import f1_score\n",
    "from sklearn.metrics import roc_auc_score\n",
    "\n",
    "# accuracy: (tp + tn) / (p + n)\n",
    "accuracy = accuracy_score(y_true, prediction)\n",
    "print('Accuracy: %f' % accuracy)\n",
    "\n",
    "# precision tp / (tp + fp)\n",
    "precision = precision_score(y_true, prediction, average=\"macro\")\n",
    "print('Precision: %f' % precision)\n",
    "\n",
    "# recall: tp / (tp + fn)\n",
    "recall = recall_score(y_true, prediction, average=\"macro\")\n",
    "print('Recall: %f' % recall)\n",
    "\n",
    "# f1: 2 tp / (2 tp + fp + fn)\n",
    "f1 = f1_score(y_true, prediction, average=\"macro\")\n",
    "print('F1 score: %f' % f1)"
   ]
  },
  {
   "cell_type": "code",
   "execution_count": null,
   "metadata": {
    "id": "9zYAXfgZuAvb"
   },
   "outputs": [],
   "source": []
  }
 ],
 "metadata": {
  "accelerator": "GPU",
  "colab": {
   "collapsed_sections": [],
   "name": "multiclass_baseline.ipynb",
   "provenance": []
  },
  "kernelspec": {
   "display_name": "Python 3",
   "language": "python",
   "name": "python3"
  },
  "language_info": {
   "codemirror_mode": {
    "name": "ipython",
    "version": 3
   },
   "file_extension": ".py",
   "mimetype": "text/x-python",
   "name": "python",
   "nbconvert_exporter": "python",
   "pygments_lexer": "ipython3",
   "version": "3.8.8"
  }
 },
 "nbformat": 4,
 "nbformat_minor": 4
}
