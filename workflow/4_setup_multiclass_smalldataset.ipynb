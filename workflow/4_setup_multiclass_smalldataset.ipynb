{
 "cells": [
  {
   "cell_type": "markdown",
   "id": "e1fb526a-96ff-4515-9bbe-e4b25846ea34",
   "metadata": {},
   "source": [
    "# Building small dataset for Multiclass model"
   ]
  },
  {
   "cell_type": "code",
   "execution_count": 1,
   "id": "209272d2-023a-4b96-861b-5141456b775f",
   "metadata": {},
   "outputs": [],
   "source": [
    "import os, shutil"
   ]
  },
  {
   "cell_type": "code",
   "execution_count": 4,
   "id": "41f1ef4a-4ad1-4813-a9cd-0cf67a44778b",
   "metadata": {},
   "outputs": [],
   "source": [
    "# The path to the directory where the original\n",
    "# dataset was uncompressed\n",
    "original_incorrect_dataset_dir = '/Users/crystalhuang/Documents/GitHub/deep_learning_project/Face Mask Dataset multiclass/Train/IncorrectMask'\n",
    "\n",
    "# The directory where we will\n",
    "# store our smaller dataset\n",
    "base_dir = '/Users/crystalhuang/Documents/GitHub/deep_learning_project/smalldataset'\n",
    "\n",
    "# Directories for our training,\n",
    "# validation and test splits\n",
    "train_dir = os.path.join(base_dir, 'train')\n",
    "validation_dir = os.path.join(base_dir, 'validation')\n",
    "test_dir = os.path.join(base_dir, 'test')\n",
    "\n",
    "\n",
    "# Directory with our training incorrect mask pictures\n",
    "train_inm_dir = os.path.join(train_dir, 'IncorrectMask')\n",
    "os.mkdir(train_inm_dir)\n",
    "\n",
    "# Directory with our validation incorrect mask pictures\n",
    "validation_inm_dir = os.path.join(validation_dir, 'IncorrectMask')\n",
    "os.mkdir(validation_inm_dir)\n",
    "\n",
    "# Directory with our test incorrect mask pictures\n",
    "test_inm_dir = os.path.join(test_dir, 'IncorrectMask')\n",
    "os.mkdir(test_inm_dir)\n",
    "\n",
    "\n",
    "# Copy first 1000 mask images to train_mask_dir\n",
    "parent_list = os.listdir(original_incorrect_dataset_dir)\n",
    "count=0\n",
    "for child in parent_list:\n",
    "    if count<1000:\n",
    "        src = os.path.join(original_incorrect_dataset_dir, child)\n",
    "        dst = os.path.join(train_inm_dir, child)\n",
    "        shutil.copyfile(src, dst)\n",
    "    else:\n",
    "        break\n",
    "    count += 1    \n",
    "    \n",
    "# Copy next 500 mask images to validation_mask_dir\n",
    "parent_list = os.listdir(original_incorrect_dataset_dir)\n",
    "count=0\n",
    "for child in parent_list:\n",
    "    if count<1000:\n",
    "        pass\n",
    "    elif count >= 1000 and count <1500:\n",
    "        src = os.path.join(original_incorrect_dataset_dir, child)\n",
    "        dst = os.path.join(validation_inm_dir, child)\n",
    "        shutil.copyfile(src, dst)\n",
    "    else:\n",
    "        break\n",
    "    count += 1   \n",
    "\n",
    "# Copy next 500 mask images to test_mask_dir\n",
    "parent_list = os.listdir(original_incorrect_dataset_dir)\n",
    "count=0\n",
    "for child in parent_list:\n",
    "    if count<1500:\n",
    "        pass\n",
    "    elif count >= 1500 and count <2000:\n",
    "        src = os.path.join(original_incorrect_dataset_dir, child)\n",
    "        dst = os.path.join(test_inm_dir, child)\n",
    "        shutil.copyfile(src, dst)\n",
    "    else:\n",
    "        break\n",
    "    count += 1   "
   ]
  },
  {
   "cell_type": "code",
   "execution_count": null,
   "id": "f0d72a36-5245-4530-b189-7534ed341c64",
   "metadata": {},
   "outputs": [],
   "source": []
  }
 ],
 "metadata": {
  "kernelspec": {
   "display_name": "Python [conda env:root]",
   "language": "python",
   "name": "conda-root-py"
  },
  "language_info": {
   "codemirror_mode": {
    "name": "ipython",
    "version": 3
   },
   "file_extension": ".py",
   "mimetype": "text/x-python",
   "name": "python",
   "nbconvert_exporter": "python",
   "pygments_lexer": "ipython3",
   "version": "3.8.5"
  }
 },
 "nbformat": 4,
 "nbformat_minor": 5
}
