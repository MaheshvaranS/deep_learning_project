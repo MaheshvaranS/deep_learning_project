{
 "cells": [
  {
   "cell_type": "code",
   "execution_count": 1,
   "metadata": {
    "colab": {
     "base_uri": "https://localhost:8080/"
    },
    "id": "-pwN7X5sVgjL",
    "outputId": "b6897503-0612-45c2-b4a0-280186294076"
   },
   "outputs": [
    {
     "name": "stdout",
     "output_type": "stream",
     "text": [
      "Wed Jun  9 14:47:23 2021       \n",
      "+-----------------------------------------------------------------------------+\n",
      "| NVIDIA-SMI 465.27       Driver Version: 460.32.03    CUDA Version: 11.2     |\n",
      "|-------------------------------+----------------------+----------------------+\n",
      "| GPU  Name        Persistence-M| Bus-Id        Disp.A | Volatile Uncorr. ECC |\n",
      "| Fan  Temp  Perf  Pwr:Usage/Cap|         Memory-Usage | GPU-Util  Compute M. |\n",
      "|                               |                      |               MIG M. |\n",
      "|===============================+======================+======================|\n",
      "|   0  Tesla P100-PCIE...  Off  | 00000000:00:04.0 Off |                    0 |\n",
      "| N/A   33C    P0    27W / 250W |      0MiB / 16280MiB |      0%      Default |\n",
      "|                               |                      |                  N/A |\n",
      "+-------------------------------+----------------------+----------------------+\n",
      "                                                                               \n",
      "+-----------------------------------------------------------------------------+\n",
      "| Processes:                                                                  |\n",
      "|  GPU   GI   CI        PID   Type   Process name                  GPU Memory |\n",
      "|        ID   ID                                                   Usage      |\n",
      "|=============================================================================|\n",
      "|  No running processes found                                                 |\n",
      "+-----------------------------------------------------------------------------+\n"
     ]
    }
   ],
   "source": [
    "!nvidia-smi"
   ]
  },
  {
   "cell_type": "code",
   "execution_count": 2,
   "metadata": {
    "id": "Pi-Swpjwadao"
   },
   "outputs": [],
   "source": [
    "import pandas as pd\n",
    "import numpy as np\n",
    "import matplotlib.pyplot as plt\n",
    "%matplotlib inline\n",
    "import seaborn as sns\n",
    "import os, shutil\n",
    "from glob import glob"
   ]
  },
  {
   "cell_type": "code",
   "execution_count": 3,
   "metadata": {
    "colab": {
     "base_uri": "https://localhost:8080/"
    },
    "id": "jXCwu9HpnsZt",
    "outputId": "102227db-274e-44fc-fede-f4539777166b"
   },
   "outputs": [
    {
     "name": "stdout",
     "output_type": "stream",
     "text": [
      "Mounted at /content/grive\n"
     ]
    }
   ],
   "source": [
    "from google.colab import drive\n",
    "drive.mount('/content/grive')"
   ]
  },
  {
   "cell_type": "code",
   "execution_count": 4,
   "metadata": {
    "id": "tLEPFkckQr0j"
   },
   "outputs": [],
   "source": [
    "import cv2\n",
    "from keras.preprocessing.image import ImageDataGenerator"
   ]
  },
  {
   "cell_type": "markdown",
   "metadata": {},
   "source": [
    "## Added more data (generated mask images to counter the incorrect mask images wrong prediction problem)"
   ]
  },
  {
   "cell_type": "markdown",
   "metadata": {
    "id": "MveHtQgCRK2h"
   },
   "source": [
    "# Preprocessing images"
   ]
  },
  {
   "cell_type": "code",
   "execution_count": 5,
   "metadata": {
    "id": "Ebmh-QwbQy8T"
   },
   "outputs": [],
   "source": [
    "image_gen = ImageDataGenerator(rescale=1./255)"
   ]
  },
  {
   "cell_type": "code",
   "execution_count": 6,
   "metadata": {
    "id": "duBQHPRllXY2"
   },
   "outputs": [],
   "source": [
    "train_dir = '/content/grive/MyDrive/Face Mask Dataset/Train'\n",
    "val_dir = '/content/grive/MyDrive/Face Mask Dataset/Validation'\n",
    "test_dir = '/content/grive/MyDrive/Face Mask Dataset/Test'"
   ]
  },
  {
   "cell_type": "code",
   "execution_count": 7,
   "metadata": {
    "colab": {
     "base_uri": "https://localhost:8080/"
    },
    "id": "upJgGdKcpU6Q",
    "outputId": "c5ef62c7-0684-43af-e38b-3f1c26342247"
   },
   "outputs": [
    {
     "name": "stdout",
     "output_type": "stream",
     "text": [
      "Found 24010 images belonging to 3 classes.\n",
      "Found 2700 images belonging to 3 classes.\n",
      "Found 2700 images belonging to 3 classes.\n"
     ]
    }
   ],
   "source": [
    "batch_size = 80\n",
    "train_generator = image_gen.flow_from_directory(train_dir,\n",
    "                                          target_size=(150,150),\n",
    "                                          batch_size=batch_size,\n",
    "                                          seed=42,\n",
    "                                          shuffle=False,\n",
    "                                          class_mode='categorical')\n",
    "val_generator = image_gen.flow_from_directory(val_dir,\n",
    "                                        target_size=(150,150),\n",
    "                                        batch_size=batch_size,\n",
    "                                        seed=42,\n",
    "                                        shuffle=False,\n",
    "                                        class_mode='categorical')\n",
    "test_generator = image_gen.flow_from_directory(test_dir,\n",
    "                                        target_size=(150,150),\n",
    "                                        batch_size=batch_size,\n",
    "                                        seed=42,\n",
    "                                        shuffle=False,\n",
    "                                        class_mode='categorical')"
   ]
  },
  {
   "cell_type": "markdown",
   "metadata": {
    "id": "V8hMONqtRSdP"
   },
   "source": [
    "# Building CNN Model"
   ]
  },
  {
   "cell_type": "code",
   "execution_count": 8,
   "metadata": {
    "id": "6Hiyz2Skr8Fp"
   },
   "outputs": [],
   "source": [
    "from keras.models import Sequential, Model, load_model\n",
    "from keras.layers import Dense, Conv2D, MaxPool2D, Flatten, Dropout\n",
    "from keras import optimizers\n",
    "from keras.callbacks import ModelCheckpoint\n"
   ]
  },
  {
   "cell_type": "code",
   "execution_count": 9,
   "metadata": {
    "id": "RPkOe2APdLqN"
   },
   "outputs": [],
   "source": [
    "model = Sequential()\n",
    "\n",
    "model.add(Conv2D(32, (3, 3), input_shape=(150,150,3), activation='relu'))\n",
    "model.add(MaxPool2D((2,2)))\n",
    "\n",
    "model.add(Conv2D(64, (3,3),activation='relu'))\n",
    "model.add(MaxPool2D((2,2)))\n",
    "\n",
    "model.add(Conv2D(128, (3,3),activation='relu'))\n",
    "model.add(MaxPool2D((2,2)))\n",
    "\n",
    "model.add(Conv2D(128, (3,3),activation='relu'))\n",
    "model.add(MaxPool2D((2,2)))\n",
    "\n",
    "model.add(Flatten())\n",
    "model.add(Dense(512, activation='relu'))\n",
    "model.add(Dense(3, activation='softmax'))\n",
    "\n",
    "model.compile(loss='categorical_crossentropy',\n",
    "              optimizer='adam',\n",
    "              metrics=['accuracy'])"
   ]
  },
  {
   "cell_type": "code",
   "execution_count": 10,
   "metadata": {
    "colab": {
     "base_uri": "https://localhost:8080/"
    },
    "id": "psmX4o2ddL0g",
    "outputId": "6e4ccca8-b76a-4e17-b9b2-a3f29ba00f74"
   },
   "outputs": [
    {
     "name": "stdout",
     "output_type": "stream",
     "text": [
      "Model: \"sequential\"\n",
      "_________________________________________________________________\n",
      "Layer (type)                 Output Shape              Param #   \n",
      "=================================================================\n",
      "conv2d (Conv2D)              (None, 148, 148, 32)      896       \n",
      "_________________________________________________________________\n",
      "max_pooling2d (MaxPooling2D) (None, 74, 74, 32)        0         \n",
      "_________________________________________________________________\n",
      "conv2d_1 (Conv2D)            (None, 72, 72, 64)        18496     \n",
      "_________________________________________________________________\n",
      "max_pooling2d_1 (MaxPooling2 (None, 36, 36, 64)        0         \n",
      "_________________________________________________________________\n",
      "conv2d_2 (Conv2D)            (None, 34, 34, 128)       73856     \n",
      "_________________________________________________________________\n",
      "max_pooling2d_2 (MaxPooling2 (None, 17, 17, 128)       0         \n",
      "_________________________________________________________________\n",
      "conv2d_3 (Conv2D)            (None, 15, 15, 128)       147584    \n",
      "_________________________________________________________________\n",
      "max_pooling2d_3 (MaxPooling2 (None, 7, 7, 128)         0         \n",
      "_________________________________________________________________\n",
      "flatten (Flatten)            (None, 6272)              0         \n",
      "_________________________________________________________________\n",
      "dense (Dense)                (None, 512)               3211776   \n",
      "_________________________________________________________________\n",
      "dense_1 (Dense)              (None, 3)                 1539      \n",
      "=================================================================\n",
      "Total params: 3,454,147\n",
      "Trainable params: 3,454,147\n",
      "Non-trainable params: 0\n",
      "_________________________________________________________________\n"
     ]
    }
   ],
   "source": [
    "model.summary()"
   ]
  },
  {
   "cell_type": "code",
   "execution_count": 11,
   "metadata": {
    "colab": {
     "base_uri": "https://localhost:8080/"
    },
    "id": "wruTma5t9SHS",
    "outputId": "40b9a7b8-7fae-4949-f995-2e52639f858a"
   },
   "outputs": [
    {
     "name": "stderr",
     "output_type": "stream",
     "text": [
      "/usr/local/lib/python3.7/dist-packages/keras/engine/training.py:1915: UserWarning: `Model.fit_generator` is deprecated and will be removed in a future version. Please use `Model.fit`, which supports generators.\n",
      "  warnings.warn('`Model.fit_generator` is deprecated and '\n"
     ]
    },
    {
     "name": "stdout",
     "output_type": "stream",
     "text": [
      "Epoch 1/30\n",
      "300/300 [==============================] - 8764s 29s/step - loss: 1.2105 - accuracy: 0.3269 - val_loss: 1.1002 - val_accuracy: 0.3333\n",
      "Epoch 2/30\n",
      "300/300 [==============================] - 236s 787ms/step - loss: 1.1007 - accuracy: 0.3073 - val_loss: 1.0987 - val_accuracy: 0.3333\n",
      "Epoch 3/30\n",
      "300/300 [==============================] - 233s 778ms/step - loss: 1.1027 - accuracy: 0.3840 - val_loss: 1.3095 - val_accuracy: 0.3333\n",
      "Epoch 4/30\n",
      "300/300 [==============================] - 231s 767ms/step - loss: 1.1358 - accuracy: 0.3843 - val_loss: 1.0995 - val_accuracy: 0.3374\n",
      "Epoch 5/30\n",
      "300/300 [==============================] - 229s 764ms/step - loss: 1.1553 - accuracy: 0.3521 - val_loss: 0.9256 - val_accuracy: 0.6419\n",
      "Epoch 6/30\n",
      "300/300 [==============================] - 231s 769ms/step - loss: 0.9948 - accuracy: 0.6140 - val_loss: 0.2809 - val_accuracy: 0.9026\n",
      "Epoch 7/30\n",
      "300/300 [==============================] - 233s 777ms/step - loss: 0.2807 - accuracy: 0.8980 - val_loss: 0.1419 - val_accuracy: 0.9548\n",
      "Epoch 8/30\n",
      "300/300 [==============================] - 229s 767ms/step - loss: 0.1547 - accuracy: 0.9504 - val_loss: 0.1014 - val_accuracy: 0.9685\n",
      "Epoch 9/30\n",
      "300/300 [==============================] - 232s 773ms/step - loss: 0.1300 - accuracy: 0.9570 - val_loss: 0.0714 - val_accuracy: 0.9785\n",
      "Epoch 10/30\n",
      "300/300 [==============================] - 233s 776ms/step - loss: 0.1099 - accuracy: 0.9628 - val_loss: 0.1043 - val_accuracy: 0.9652\n",
      "Epoch 11/30\n",
      "300/300 [==============================] - 229s 761ms/step - loss: 0.0830 - accuracy: 0.9718 - val_loss: 0.0586 - val_accuracy: 0.9785\n",
      "Epoch 12/30\n",
      "300/300 [==============================] - 231s 767ms/step - loss: 0.0584 - accuracy: 0.9792 - val_loss: 0.0556 - val_accuracy: 0.9796\n",
      "Epoch 13/30\n",
      "300/300 [==============================] - 232s 771ms/step - loss: 0.0416 - accuracy: 0.9866 - val_loss: 0.0466 - val_accuracy: 0.9859\n",
      "Epoch 14/30\n",
      "300/300 [==============================] - 229s 762ms/step - loss: 0.0466 - accuracy: 0.9840 - val_loss: 0.0277 - val_accuracy: 0.9907\n",
      "Epoch 15/30\n",
      "300/300 [==============================] - 229s 763ms/step - loss: 0.0238 - accuracy: 0.9917 - val_loss: 0.0509 - val_accuracy: 0.9833\n",
      "Epoch 16/30\n",
      "300/300 [==============================] - 229s 764ms/step - loss: 0.0371 - accuracy: 0.9861 - val_loss: 0.0256 - val_accuracy: 0.9915\n",
      "Epoch 17/30\n",
      "300/300 [==============================] - 230s 769ms/step - loss: 0.0199 - accuracy: 0.9933 - val_loss: 0.0201 - val_accuracy: 0.9933\n",
      "Epoch 18/30\n",
      "300/300 [==============================] - 233s 779ms/step - loss: 0.0179 - accuracy: 0.9937 - val_loss: 0.0214 - val_accuracy: 0.9933\n",
      "Epoch 19/30\n",
      "300/300 [==============================] - 234s 781ms/step - loss: 0.0118 - accuracy: 0.9956 - val_loss: 0.0188 - val_accuracy: 0.9926\n",
      "Epoch 20/30\n",
      "300/300 [==============================] - 232s 772ms/step - loss: 0.0151 - accuracy: 0.9951 - val_loss: 0.0312 - val_accuracy: 0.9907\n",
      "Epoch 21/30\n",
      "300/300 [==============================] - 232s 771ms/step - loss: 0.0172 - accuracy: 0.9936 - val_loss: 0.0182 - val_accuracy: 0.9948\n",
      "Epoch 22/30\n",
      "300/300 [==============================] - 234s 777ms/step - loss: 0.0072 - accuracy: 0.9977 - val_loss: 0.0545 - val_accuracy: 0.9833\n",
      "Epoch 23/30\n",
      "300/300 [==============================] - 232s 776ms/step - loss: 0.2837 - accuracy: 0.9252 - val_loss: 0.0296 - val_accuracy: 0.9893\n",
      "Epoch 24/30\n",
      "300/300 [==============================] - 232s 775ms/step - loss: 0.0241 - accuracy: 0.9902 - val_loss: 0.0190 - val_accuracy: 0.9937\n",
      "Epoch 25/30\n",
      "300/300 [==============================] - 235s 785ms/step - loss: 0.0070 - accuracy: 0.9976 - val_loss: 0.0167 - val_accuracy: 0.9948\n",
      "Epoch 26/30\n",
      "300/300 [==============================] - 234s 780ms/step - loss: 0.0107 - accuracy: 0.9965 - val_loss: 0.0302 - val_accuracy: 0.9900\n",
      "Epoch 27/30\n",
      "300/300 [==============================] - 233s 778ms/step - loss: 0.0079 - accuracy: 0.9972 - val_loss: 0.0197 - val_accuracy: 0.9952\n",
      "Epoch 28/30\n",
      "300/300 [==============================] - 235s 783ms/step - loss: 0.0022 - accuracy: 0.9994 - val_loss: 0.0124 - val_accuracy: 0.9974\n",
      "Epoch 29/30\n",
      "300/300 [==============================] - 234s 782ms/step - loss: 0.0010 - accuracy: 0.9998 - val_loss: 0.0099 - val_accuracy: 0.9967\n",
      "Epoch 30/30\n",
      "300/300 [==============================] - 232s 773ms/step - loss: 3.1329e-04 - accuracy: 1.0000 - val_loss: 0.0136 - val_accuracy: 0.9959\n"
     ]
    }
   ],
   "source": [
    "result = model.fit_generator(train_generator, \n",
    "                             validation_data=val_generator,\n",
    "                             epochs=30,\n",
    "                             steps_per_epoch=(len(train_generator.labels)/80),\n",
    "                             validation_steps=(len(val_generator.labels)/80)\n",
    "                             )"
   ]
  },
  {
   "cell_type": "code",
   "execution_count": 12,
   "metadata": {
    "id": "kODlcWMB-pRW"
   },
   "outputs": [],
   "source": [
    "model.save('multiclass_baseline.h5')"
   ]
  },
  {
   "cell_type": "markdown",
   "metadata": {
    "id": "4DRI-JkLSLLc"
   },
   "source": [
    "# Evaluation on model"
   ]
  },
  {
   "cell_type": "code",
   "execution_count": 13,
   "metadata": {
    "colab": {
     "base_uri": "https://localhost:8080/"
    },
    "id": "RH0W9FIpSQ6H",
    "outputId": "1ff81691-5f46-4f87-e5f2-7e7c205bdc04"
   },
   "outputs": [
    {
     "data": {
      "text/plain": [
       "[0.35122865438461304,\n",
       " 0.3036651313304901,\n",
       " 0.32827988266944885,\n",
       " 0.40399834513664246,\n",
       " 0.3804664611816406,\n",
       " 0.626405656337738,\n",
       " 0.9147855043411255,\n",
       " 0.9528529644012451,\n",
       " 0.959933340549469,\n",
       " 0.9586422443389893,\n",
       " 0.9736359715461731,\n",
       " 0.9801332950592041,\n",
       " 0.9850062727928162,\n",
       " 0.9866305589675903,\n",
       " 0.9881715774536133,\n",
       " 0.9868388175964355,\n",
       " 0.9916701316833496,\n",
       " 0.9933777451515198,\n",
       " 0.9930445551872253,\n",
       " 0.9934194087982178,\n",
       " 0.996001660823822,\n",
       " 0.9961265921592712,\n",
       " 0.9458975195884705,\n",
       " 0.9913369417190552,\n",
       " 0.9977092742919922,\n",
       " 0.9970012307167053,\n",
       " 0.997584342956543,\n",
       " 0.9995834827423096,\n",
       " 0.9997500777244568,\n",
       " 1.0]"
      ]
     },
     "execution_count": 13,
     "metadata": {
      "tags": []
     },
     "output_type": "execute_result"
    }
   ],
   "source": [
    "result.history['accuracy']"
   ]
  },
  {
   "cell_type": "code",
   "execution_count": 14,
   "metadata": {
    "colab": {
     "base_uri": "https://localhost:8080/",
     "height": 282
    },
    "id": "DtHMy3QJSQEn",
    "outputId": "32fd985a-d7a8-4ce7-a493-0d6dc4041f3e"
   },
   "outputs": [
    {
     "data": {
      "text/plain": [
       "[<matplotlib.lines.Line2D at 0x7fa5f01b1950>]"
      ]
     },
     "execution_count": 14,
     "metadata": {
      "tags": []
     },
     "output_type": "execute_result"
    },
    {
     "data": {
      "image/png": "[encoded data removed]",
      "text/plain": [
       "<Figure size 432x288 with 1 Axes>"
      ]
     },
     "metadata": {
      "needs_background": "light",
      "tags": []
     },
     "output_type": "display_data"
    }
   ],
   "source": [
    "plt.plot(result.history['accuracy'])"
   ]
  },
  {
   "cell_type": "code",
   "execution_count": 15,
   "metadata": {
    "colab": {
     "base_uri": "https://localhost:8080/"
    },
    "id": "9_QlTYFTqNI8",
    "outputId": "b1bb5f67-1745-4d23-a560-1fd13a217549"
   },
   "outputs": [
    {
     "data": {
      "text/plain": [
       "[0.3333333432674408,\n",
       " 0.3333333432674408,\n",
       " 0.3333333432674408,\n",
       " 0.3374074101448059,\n",
       " 0.6418518424034119,\n",
       " 0.9025925993919373,\n",
       " 0.9548147916793823,\n",
       " 0.9685184955596924,\n",
       " 0.978518545627594,\n",
       " 0.9651851654052734,\n",
       " 0.978518545627594,\n",
       " 0.979629635810852,\n",
       " 0.9859259128570557,\n",
       " 0.9907407164573669,\n",
       " 0.9833333492279053,\n",
       " 0.9914814829826355,\n",
       " 0.9933333396911621,\n",
       " 0.9933333396911621,\n",
       " 0.9925925731658936,\n",
       " 0.9907407164573669,\n",
       " 0.9948148131370544,\n",
       " 0.9833333492279053,\n",
       " 0.9892592430114746,\n",
       " 0.9937037229537964,\n",
       " 0.9948148131370544,\n",
       " 0.9900000095367432,\n",
       " 0.9951851963996887,\n",
       " 0.9974074363708496,\n",
       " 0.996666669845581,\n",
       " 0.9959259033203125]"
      ]
     },
     "execution_count": 15,
     "metadata": {
      "tags": []
     },
     "output_type": "execute_result"
    }
   ],
   "source": [
    "result.history['val_accuracy']"
   ]
  },
  {
   "cell_type": "code",
   "execution_count": 16,
   "metadata": {
    "colab": {
     "base_uri": "https://localhost:8080/",
     "height": 265
    },
    "id": "J1v--WfdTQTF",
    "outputId": "693febdc-dfe7-4826-c9bc-439b88e862a1"
   },
   "outputs": [
    {
     "data": {
      "image/png": "[encoded data removed]",
      "text/plain": [
       "<Figure size 720x288 with 2 Axes>"
      ]
     },
     "metadata": {
      "needs_background": "light",
      "tags": []
     },
     "output_type": "display_data"
    }
   ],
   "source": [
    "plt.figure(figsize=(10,4))\n",
    "plt.subplot(1,2,1)\n",
    "\n",
    "plt.plot(result.history['accuracy'], label='train accuracy', color='red')\n",
    "plt.plot(result.history['val_accuracy'], label='validation accuracy', color='blue')\n",
    "plt.legend()\n",
    "\n",
    "plt.subplot(1,2,2)\n",
    "plt.plot(result.history['loss'], label='train loss', color='red')\n",
    "plt.plot(result.history['val_loss'], label='validation loss', color='blue')\n",
    "plt.legend()\n",
    "\n",
    "plt.show()"
   ]
  },
  {
   "cell_type": "code",
   "execution_count": 17,
   "metadata": {
    "id": "rfOD9wR37nwL"
   },
   "outputs": [],
   "source": [
    "from sklearn.metrics import confusion_matrix, classification_report"
   ]
  },
  {
   "cell_type": "code",
   "execution_count": 18,
   "metadata": {
    "colab": {
     "base_uri": "https://localhost:8080/"
    },
    "id": "2MRzEEqBEgjc",
    "outputId": "31577337-2fb5-4e3d-ca3d-ebe076725162"
   },
   "outputs": [
    {
     "name": "stderr",
     "output_type": "stream",
     "text": [
      "/usr/local/lib/python3.7/dist-packages/keras/engine/sequential.py:450: UserWarning: `model.predict_classes()` is deprecated and will be removed after 2021-01-01. Please use instead:* `np.argmax(model.predict(x), axis=-1)`,   if your model does multi-class classification   (e.g. if it uses a `softmax` last-layer activation).* `(model.predict(x) > 0.5).astype(\"int32\")`,   if your model does binary classification   (e.g. if it uses a `sigmoid` last-layer activation).\n",
      "  warnings.warn('`model.predict_classes()` is deprecated and '\n"
     ]
    }
   ],
   "source": [
    "prediction = model.predict_classes(test_generator)\n",
    "y_true = test_generator.labels"
   ]
  },
  {
   "cell_type": "code",
   "execution_count": 19,
   "metadata": {
    "colab": {
     "base_uri": "https://localhost:8080/"
    },
    "id": "2geMkmUeTwRn",
    "outputId": "cf5c0ae0-0434-40ae-a574-432aa0fffa8a"
   },
   "outputs": [
    {
     "data": {
      "text/plain": [
       "{'IncorrectMask': 0, 'WithMask': 1, 'WithoutMask': 2}"
      ]
     },
     "execution_count": 19,
     "metadata": {
      "tags": []
     },
     "output_type": "execute_result"
    }
   ],
   "source": [
    "train_generator.class_indices"
   ]
  },
  {
   "cell_type": "code",
   "execution_count": 20,
   "metadata": {
    "colab": {
     "base_uri": "https://localhost:8080/"
    },
    "id": "kciIA1sQ7-tt",
    "outputId": "e55f33c8-e6bf-426b-de8b-1949ba268902"
   },
   "outputs": [
    {
     "data": {
      "text/plain": [
       "array([[898,   2,   0],\n",
       "       [  1, 891,   8],\n",
       "       [  0,   6, 894]])"
      ]
     },
     "execution_count": 20,
     "metadata": {
      "tags": []
     },
     "output_type": "execute_result"
    }
   ],
   "source": [
    "confusion_matrix(y_true, prediction)"
   ]
  },
  {
   "cell_type": "code",
   "execution_count": 21,
   "metadata": {
    "colab": {
     "base_uri": "https://localhost:8080/",
     "height": 513
    },
    "id": "jaHTRDKyTgAN",
    "outputId": "ab18c6ef-f906-43ae-b250-8aec9268c9e7"
   },
   "outputs": [
    {
     "data": {
      "image/png": "[encoded data removed]",
      "text/plain": [
       "<Figure size 2520x504 with 2 Axes>"
      ]
     },
     "metadata": {
      "needs_background": "light",
      "tags": []
     },
     "output_type": "display_data"
    }
   ],
   "source": [
    "plt.figure(figsize=(35,7))\n",
    "plt.subplot(131)\n",
    "ax = sns.heatmap(confusion_matrix(test_generator.labels, prediction.round()),\n",
    "            annot = True, annot_kws={\"size\":20}, fmt=\"d\",cmap = \"Blues\")\n",
    "# cmlabels = ['True Negatives', \"False Positives\",\n",
    "#                'Flase Negatives', \"True Positives\"]\n",
    "# for i,t in enumerate(ax.texts):\n",
    "#   t.set_text(t.get_text() + \"\\n\" + cmlabels[i])\n",
    "plt.title('Confusion Matrix', size=25)\n",
    "plt.xlabel('Predicted Outcome', size=20)\n",
    "plt.ylabel('Actual Outcome', size=20)\n",
    "labels = ['Incorrect Mask', 'Mask', 'No Mask']\n",
    "ax.set_xticklabels(labels, size=15)\n",
    "ax.set_yticklabels(labels, size=15)\n",
    "plt.tight_layout()\n",
    "plt.show();"
   ]
  },
  {
   "cell_type": "code",
   "execution_count": 22,
   "metadata": {
    "colab": {
     "base_uri": "https://localhost:8080/"
    },
    "id": "evN2NOGZ-S7n",
    "outputId": "a4fea2ba-f4f8-44f0-a32c-f941265b9667"
   },
   "outputs": [
    {
     "name": "stdout",
     "output_type": "stream",
     "text": [
      "              precision    recall  f1-score   support\n",
      "\n",
      "           0       1.00      1.00      1.00       900\n",
      "           1       0.99      0.99      0.99       900\n",
      "           2       0.99      0.99      0.99       900\n",
      "\n",
      "    accuracy                           0.99      2700\n",
      "   macro avg       0.99      0.99      0.99      2700\n",
      "weighted avg       0.99      0.99      0.99      2700\n",
      "\n"
     ]
    }
   ],
   "source": [
    "print(classification_report(y_true, prediction))"
   ]
  },
  {
   "cell_type": "code",
   "execution_count": 23,
   "metadata": {
    "colab": {
     "base_uri": "https://localhost:8080/"
    },
    "id": "8aqTfJxFZTcI",
    "outputId": "5ac30e36-0634-40c6-94cc-636149180e2f"
   },
   "outputs": [
    {
     "name": "stdout",
     "output_type": "stream",
     "text": [
      "Accuracy: 0.993704\n",
      "Precision: 0.993707\n",
      "Recall: 0.993704\n",
      "F1 score: 0.993705\n"
     ]
    }
   ],
   "source": [
    "from sklearn.metrics import accuracy_score\n",
    "from sklearn.metrics import precision_score\n",
    "from sklearn.metrics import recall_score\n",
    "from sklearn.metrics import f1_score\n",
    "from sklearn.metrics import roc_auc_score\n",
    "\n",
    "# accuracy: (tp + tn) / (p + n)\n",
    "accuracy = accuracy_score(y_true, prediction)\n",
    "print('Accuracy: %f' % accuracy)\n",
    "\n",
    "# precision tp / (tp + fp)\n",
    "precision = precision_score(y_true, prediction, average=\"macro\")\n",
    "print('Precision: %f' % precision)\n",
    "\n",
    "# recall: tp / (tp + fn)\n",
    "recall = recall_score(y_true, prediction, average=\"macro\")\n",
    "print('Recall: %f' % recall)\n",
    "\n",
    "# f1: 2 tp / (2 tp + fp + fn)\n",
    "f1 = f1_score(y_true, prediction, average=\"macro\")\n",
    "print('F1 score: %f' % f1)"
   ]
  },
  {
   "cell_type": "code",
   "execution_count": 24,
   "metadata": {
    "id": "9zYAXfgZuAvb"
   },
   "outputs": [],
   "source": [
    "model.save('/content/grive/MyDrive/multiclass_baseline.h5')"
   ]
  },
  {
   "cell_type": "code",
   "execution_count": null,
   "metadata": {
    "id": "-sudOxESOvlY"
   },
   "outputs": [],
   "source": []
  }
 ],
 "metadata": {
  "accelerator": "GPU",
  "colab": {
   "collapsed_sections": [],
   "name": "multiclass_baseline.ipynb",
   "provenance": []
  },
  "kernelspec": {
   "display_name": "Python 3",
   "language": "python",
   "name": "python3"
  },
  "language_info": {
   "codemirror_mode": {
    "name": "ipython",
    "version": 3
   },
   "file_extension": ".py",
   "mimetype": "text/x-python",
   "name": "python",
   "nbconvert_exporter": "python",
   "pygments_lexer": "ipython3",
   "version": "3.8.8"
  }
 },
 "nbformat": 4,
 "nbformat_minor": 4
}
