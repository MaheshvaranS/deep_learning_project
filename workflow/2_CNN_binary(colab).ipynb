{
 "cells": [
  {
   "cell_type": "code",
   "execution_count": 1,
   "metadata": {
    "colab": {
     "base_uri": "https://localhost:8080/"
    },
    "id": "-pwN7X5sVgjL",
    "outputId": "c148f376-8a20-4df8-fd23-fb3625c92fcd"
   },
   "outputs": [
    {
     "name": "stdout",
     "output_type": "stream",
     "text": [
      "Sat Jun  5 15:45:01 2021       \n",
      "+-----------------------------------------------------------------------------+\n",
      "| NVIDIA-SMI 465.27       Driver Version: 460.32.03    CUDA Version: 11.2     |\n",
      "|-------------------------------+----------------------+----------------------+\n",
      "| GPU  Name        Persistence-M| Bus-Id        Disp.A | Volatile Uncorr. ECC |\n",
      "| Fan  Temp  Perf  Pwr:Usage/Cap|         Memory-Usage | GPU-Util  Compute M. |\n",
      "|                               |                      |               MIG M. |\n",
      "|===============================+======================+======================|\n",
      "|   0  Tesla K80           Off  | 00000000:00:04.0 Off |                    0 |\n",
      "| N/A   72C    P8    77W / 149W |      0MiB / 11441MiB |      0%      Default |\n",
      "|                               |                      |                  N/A |\n",
      "+-------------------------------+----------------------+----------------------+\n",
      "                                                                               \n",
      "+-----------------------------------------------------------------------------+\n",
      "| Processes:                                                                  |\n",
      "|  GPU   GI   CI        PID   Type   Process name                  GPU Memory |\n",
      "|        ID   ID                                                   Usage      |\n",
      "|=============================================================================|\n",
      "|  No running processes found                                                 |\n",
      "+-----------------------------------------------------------------------------+\n"
     ]
    }
   ],
   "source": [
    "!nvidia-smi"
   ]
  },
  {
   "cell_type": "code",
   "execution_count": 2,
   "metadata": {
    "id": "Pi-Swpjwadao"
   },
   "outputs": [],
   "source": [
    "import pandas as pd\n",
    "import numpy as np\n",
    "import matplotlib.pyplot as plt\n",
    "%matplotlib inline\n",
    "import seaborn as sns\n",
    "import os, shutil\n",
    "from glob import glob"
   ]
  },
  {
   "cell_type": "code",
   "execution_count": 3,
   "metadata": {
    "colab": {
     "base_uri": "https://localhost:8080/"
    },
    "id": "jXCwu9HpnsZt",
    "outputId": "86379b4d-fa6b-49e0-9dba-f4e6fc582c4a"
   },
   "outputs": [
    {
     "name": "stdout",
     "output_type": "stream",
     "text": [
      "Mounted at /content/grive\n"
     ]
    }
   ],
   "source": [
    "from google.colab import drive\n",
    "drive.mount('/content/grive')"
   ]
  },
  {
   "cell_type": "code",
   "execution_count": 4,
   "metadata": {
    "id": "tLEPFkckQr0j"
   },
   "outputs": [],
   "source": [
    "import cv2\n",
    "from keras.preprocessing.image import ImageDataGenerator"
   ]
  },
  {
   "cell_type": "markdown",
   "metadata": {
    "id": "MveHtQgCRK2h"
   },
   "source": [
    "# Preprocessing images"
   ]
  },
  {
   "cell_type": "code",
   "execution_count": 5,
   "metadata": {
    "id": "Ebmh-QwbQy8T"
   },
   "outputs": [],
   "source": [
    "image_gen = ImageDataGenerator(rescale=1./255)"
   ]
  },
  {
   "cell_type": "code",
   "execution_count": 6,
   "metadata": {
    "id": "duBQHPRllXY2"
   },
   "outputs": [],
   "source": [
    "train_dir = '/content/grive/MyDrive/Face Mask Dataset/Train'\n",
    "val_dir = '/content/grive/MyDrive/Face Mask Dataset/Validation'\n",
    "test_dir = '/content/grive/MyDrive/Face Mask Dataset/Test'"
   ]
  },
  {
   "cell_type": "code",
   "execution_count": 7,
   "metadata": {
    "colab": {
     "base_uri": "https://localhost:8080/"
    },
    "id": "upJgGdKcpU6Q",
    "outputId": "575f3240-bf97-47c6-ed93-950c5c9154cd"
   },
   "outputs": [
    {
     "name": "stdout",
     "output_type": "stream",
     "text": [
      "Found 10000 images belonging to 2 classes.\n",
      "Found 800 images belonging to 2 classes.\n",
      "Found 992 images belonging to 2 classes.\n"
     ]
    }
   ],
   "source": [
    "batch_size = 80\n",
    "train_generator = image_gen.flow_from_directory(train_dir,\n",
    "                                          target_size=(150,150),\n",
    "                                          batch_size=batch_size,\n",
    "                                          seed=42,\n",
    "                                          shuffle=False,\n",
    "                                          class_mode='binary')\n",
    "val_generator = image_gen.flow_from_directory(val_dir,\n",
    "                                        target_size=(150,150),\n",
    "                                        batch_size=batch_size,\n",
    "                                        seed=42,\n",
    "                                        shuffle=False,\n",
    "                                        class_mode='binary')\n",
    "test_generator = image_gen.flow_from_directory(test_dir,\n",
    "                                        target_size=(150,150),\n",
    "                                        batch_size=batch_size,\n",
    "                                        seed=42,\n",
    "                                        shuffle=False,\n",
    "                                        class_mode='binary')"
   ]
  },
  {
   "cell_type": "markdown",
   "metadata": {
    "id": "V8hMONqtRSdP"
   },
   "source": [
    "# Building CNN Model"
   ]
  },
  {
   "cell_type": "code",
   "execution_count": 8,
   "metadata": {
    "id": "6Hiyz2Skr8Fp"
   },
   "outputs": [],
   "source": [
    "from keras.models import Sequential\n",
    "from keras.layers import Dense, Conv2D, MaxPool2D, Flatten, Dropout\n",
    "from keras import optimizers"
   ]
  },
  {
   "cell_type": "code",
   "execution_count": 9,
   "metadata": {
    "id": "O_5EsYexsIWa"
   },
   "outputs": [],
   "source": [
    "model = Sequential()\n",
    "\n",
    "model.add(Conv2D(32, (3,3),input_shape=(150,150,3),activation='relu'))\n",
    "model.add(MaxPool2D((2,2)))\n",
    "\n",
    "model.add(Conv2D(64, (3,3),activation='relu'))\n",
    "model.add(MaxPool2D((2,2)))\n",
    "\n",
    "model.add(Conv2D(128, (3,3),activation='relu'))\n",
    "model.add(MaxPool2D((2,2)))\n",
    "\n",
    "model.add(Conv2D(128, (3,3),activation='relu'))\n",
    "model.add(MaxPool2D((2,2)))\n",
    "\n",
    "model.add(Flatten())\n",
    "model.add(Dense(512, activation='relu'))\n",
    "model.add(Dense(1, activation='sigmoid'))\n",
    "\n",
    "model.compile(loss='binary_crossentropy',\n",
    "              optimizer='adam',\n",
    "              metrics=['accuracy'])"
   ]
  },
  {
   "cell_type": "code",
   "execution_count": 10,
   "metadata": {
    "colab": {
     "base_uri": "https://localhost:8080/"
    },
    "id": "CyuYiL_-sM5i",
    "outputId": "92241a14-be46-433f-c342-8949a7e124d3"
   },
   "outputs": [
    {
     "name": "stdout",
     "output_type": "stream",
     "text": [
      "Model: \"sequential\"\n",
      "_________________________________________________________________\n",
      "Layer (type)                 Output Shape              Param #   \n",
      "=================================================================\n",
      "conv2d (Conv2D)              (None, 148, 148, 32)      896       \n",
      "_________________________________________________________________\n",
      "max_pooling2d (MaxPooling2D) (None, 74, 74, 32)        0         \n",
      "_________________________________________________________________\n",
      "conv2d_1 (Conv2D)            (None, 72, 72, 64)        18496     \n",
      "_________________________________________________________________\n",
      "max_pooling2d_1 (MaxPooling2 (None, 36, 36, 64)        0         \n",
      "_________________________________________________________________\n",
      "conv2d_2 (Conv2D)            (None, 34, 34, 128)       73856     \n",
      "_________________________________________________________________\n",
      "max_pooling2d_2 (MaxPooling2 (None, 17, 17, 128)       0         \n",
      "_________________________________________________________________\n",
      "conv2d_3 (Conv2D)            (None, 15, 15, 128)       147584    \n",
      "_________________________________________________________________\n",
      "max_pooling2d_3 (MaxPooling2 (None, 7, 7, 128)         0         \n",
      "_________________________________________________________________\n",
      "flatten (Flatten)            (None, 6272)              0         \n",
      "_________________________________________________________________\n",
      "dense (Dense)                (None, 512)               3211776   \n",
      "_________________________________________________________________\n",
      "dense_1 (Dense)              (None, 1)                 513       \n",
      "=================================================================\n",
      "Total params: 3,453,121\n",
      "Trainable params: 3,453,121\n",
      "Non-trainable params: 0\n",
      "_________________________________________________________________\n"
     ]
    }
   ],
   "source": [
    "model.summary()"
   ]
  },
  {
   "cell_type": "code",
   "execution_count": 11,
   "metadata": {
    "colab": {
     "base_uri": "https://localhost:8080/"
    },
    "id": "4Ii9v1YrsaZ7",
    "outputId": "2351a9b6-a5b7-4919-9a14-6be8c11728c5"
   },
   "outputs": [
    {
     "name": "stderr",
     "output_type": "stream",
     "text": [
      "/usr/local/lib/python3.7/dist-packages/keras/engine/training.py:1915: UserWarning: `Model.fit_generator` is deprecated and will be removed in a future version. Please use `Model.fit`, which supports generators.\n",
      "  warnings.warn('`Model.fit_generator` is deprecated and '\n"
     ]
    },
    {
     "name": "stdout",
     "output_type": "stream",
     "text": [
      "Epoch 1/30\n",
      "100/100 [==============================] - 46s 284ms/step - loss: 1.9977 - accuracy: 0.4686 - val_loss: 0.2851 - val_accuracy: 0.9000\n",
      "Epoch 2/30\n",
      "100/100 [==============================] - 27s 274ms/step - loss: 0.2937 - accuracy: 0.8978 - val_loss: 0.2298 - val_accuracy: 0.9013\n",
      "Epoch 3/30\n",
      "100/100 [==============================] - 27s 274ms/step - loss: 0.1658 - accuracy: 0.9320 - val_loss: 0.1515 - val_accuracy: 0.9463\n",
      "Epoch 4/30\n",
      "100/100 [==============================] - 27s 273ms/step - loss: 0.1014 - accuracy: 0.9683 - val_loss: 0.0778 - val_accuracy: 0.9800\n",
      "Epoch 5/30\n",
      "100/100 [==============================] - 27s 270ms/step - loss: 0.0578 - accuracy: 0.9803 - val_loss: 0.0591 - val_accuracy: 0.9837\n",
      "Epoch 6/30\n",
      "100/100 [==============================] - 27s 271ms/step - loss: 0.0818 - accuracy: 0.9699 - val_loss: 0.0451 - val_accuracy: 0.9837\n",
      "Epoch 7/30\n",
      "100/100 [==============================] - 27s 269ms/step - loss: 0.0417 - accuracy: 0.9842 - val_loss: 0.0331 - val_accuracy: 0.9925\n",
      "Epoch 8/30\n",
      "100/100 [==============================] - 28s 276ms/step - loss: 0.0400 - accuracy: 0.9865 - val_loss: 0.0261 - val_accuracy: 0.9912\n",
      "Epoch 9/30\n",
      "100/100 [==============================] - 28s 276ms/step - loss: 0.0314 - accuracy: 0.9904 - val_loss: 0.0160 - val_accuracy: 0.9937\n",
      "Epoch 10/30\n",
      "100/100 [==============================] - 28s 275ms/step - loss: 0.0265 - accuracy: 0.9916 - val_loss: 0.0165 - val_accuracy: 0.9937\n",
      "Epoch 11/30\n",
      "100/100 [==============================] - 28s 275ms/step - loss: 0.0206 - accuracy: 0.9928 - val_loss: 0.0154 - val_accuracy: 0.9950\n",
      "Epoch 12/30\n",
      "100/100 [==============================] - 28s 279ms/step - loss: 0.0309 - accuracy: 0.9901 - val_loss: 0.0184 - val_accuracy: 0.9900\n",
      "Epoch 13/30\n",
      "100/100 [==============================] - 27s 274ms/step - loss: 0.0149 - accuracy: 0.9939 - val_loss: 0.0110 - val_accuracy: 0.9950\n",
      "Epoch 14/30\n",
      "100/100 [==============================] - 27s 269ms/step - loss: 0.0115 - accuracy: 0.9956 - val_loss: 0.0165 - val_accuracy: 0.9937\n",
      "Epoch 15/30\n",
      "100/100 [==============================] - 27s 273ms/step - loss: 0.0148 - accuracy: 0.9954 - val_loss: 0.0099 - val_accuracy: 0.9962\n",
      "Epoch 16/30\n",
      "100/100 [==============================] - 28s 276ms/step - loss: 0.0062 - accuracy: 0.9978 - val_loss: 0.0216 - val_accuracy: 0.9912\n",
      "Epoch 17/30\n",
      "100/100 [==============================] - 27s 273ms/step - loss: 0.0085 - accuracy: 0.9971 - val_loss: 0.0093 - val_accuracy: 0.9975\n",
      "Epoch 18/30\n",
      "100/100 [==============================] - 27s 273ms/step - loss: 0.0054 - accuracy: 0.9985 - val_loss: 0.0099 - val_accuracy: 0.9962\n",
      "Epoch 19/30\n",
      "100/100 [==============================] - 28s 277ms/step - loss: 0.0065 - accuracy: 0.9977 - val_loss: 0.0148 - val_accuracy: 0.9950\n",
      "Epoch 20/30\n",
      "100/100 [==============================] - 27s 271ms/step - loss: 0.0070 - accuracy: 0.9979 - val_loss: 0.0070 - val_accuracy: 0.9962\n",
      "Epoch 21/30\n",
      "100/100 [==============================] - 27s 273ms/step - loss: 0.0119 - accuracy: 0.9954 - val_loss: 0.0304 - val_accuracy: 0.9900\n",
      "Epoch 22/30\n",
      "100/100 [==============================] - 27s 273ms/step - loss: 0.0149 - accuracy: 0.9954 - val_loss: 0.0314 - val_accuracy: 0.9887\n",
      "Epoch 23/30\n",
      "100/100 [==============================] - 28s 276ms/step - loss: 0.0152 - accuracy: 0.9941 - val_loss: 0.0088 - val_accuracy: 0.9962\n",
      "Epoch 24/30\n",
      "100/100 [==============================] - 28s 276ms/step - loss: 0.0090 - accuracy: 0.9971 - val_loss: 0.0134 - val_accuracy: 0.9950\n",
      "Epoch 25/30\n",
      "100/100 [==============================] - 27s 273ms/step - loss: 0.0100 - accuracy: 0.9971 - val_loss: 0.0052 - val_accuracy: 0.9962\n",
      "Epoch 26/30\n",
      "100/100 [==============================] - 27s 273ms/step - loss: 0.0015 - accuracy: 0.9996 - val_loss: 0.0106 - val_accuracy: 0.9975\n",
      "Epoch 27/30\n",
      "100/100 [==============================] - 28s 278ms/step - loss: 0.0031 - accuracy: 0.9991 - val_loss: 0.0071 - val_accuracy: 0.9975\n",
      "Epoch 28/30\n",
      "100/100 [==============================] - 28s 275ms/step - loss: 0.0197 - accuracy: 0.9926 - val_loss: 0.0116 - val_accuracy: 0.9962\n",
      "Epoch 29/30\n",
      "100/100 [==============================] - 28s 278ms/step - loss: 0.0161 - accuracy: 0.9950 - val_loss: 0.0100 - val_accuracy: 0.9962\n",
      "Epoch 30/30\n",
      "100/100 [==============================] - 27s 272ms/step - loss: 0.0043 - accuracy: 0.9989 - val_loss: 0.0090 - val_accuracy: 0.9975\n"
     ]
    }
   ],
   "source": [
    "from keras.callbacks import EarlyStopping\n",
    "result = model.fit_generator(\n",
    "    train_generator,\n",
    "    steps_per_epoch=100,\n",
    "    epochs=30,\n",
    "    validation_data=val_generator,\n",
    "    callbacks=[EarlyStopping(patience=16, verbose=1)]\n",
    ")"
   ]
  },
  {
   "cell_type": "code",
   "execution_count": 12,
   "metadata": {
    "id": "kODlcWMB-pRW"
   },
   "outputs": [],
   "source": [
    "model.save('binary_model.h5')"
   ]
  },
  {
   "cell_type": "markdown",
   "metadata": {
    "id": "4DRI-JkLSLLc"
   },
   "source": [
    "# Evaluation on model"
   ]
  },
  {
   "cell_type": "code",
   "execution_count": 13,
   "metadata": {
    "colab": {
     "base_uri": "https://localhost:8080/"
    },
    "id": "RH0W9FIpSQ6H",
    "outputId": "0a5afc9d-57c2-47c5-c878-c9ce5aa5894c"
   },
   "outputs": [
    {
     "data": {
      "text/plain": [
       "[0.5837500095367432,\n",
       " 0.9035000205039978,\n",
       " 0.9397500157356262,\n",
       " 0.9729999899864197,\n",
       " 0.9793750047683716,\n",
       " 0.9701250195503235,\n",
       " 0.9857500195503235,\n",
       " 0.984125018119812,\n",
       " 0.9906250238418579,\n",
       " 0.9916250109672546,\n",
       " 0.9921249747276306,\n",
       " 0.9891250133514404,\n",
       " 0.9934999942779541,\n",
       " 0.9951249957084656,\n",
       " 0.9962499737739563,\n",
       " 0.9959999918937683,\n",
       " 0.9958750009536743,\n",
       " 0.9977499842643738,\n",
       " 0.9976249933242798,\n",
       " 0.9973750114440918,\n",
       " 0.9943749904632568,\n",
       " 0.9919999837875366,\n",
       " 0.9955000281333923,\n",
       " 0.9975000023841858,\n",
       " 0.9984999895095825,\n",
       " 0.999625027179718,\n",
       " 0.9984999895095825,\n",
       " 0.9927499890327454,\n",
       " 0.996749997138977,\n",
       " 0.9988750219345093]"
      ]
     },
     "execution_count": 13,
     "metadata": {
      "tags": []
     },
     "output_type": "execute_result"
    }
   ],
   "source": [
    "result.history['accuracy']"
   ]
  },
  {
   "cell_type": "code",
   "execution_count": 24,
   "metadata": {
    "colab": {
     "base_uri": "https://localhost:8080/"
    },
    "id": "I43x0wyW_eBo",
    "outputId": "b7181c66-ece1-4f53-9651-75345c194fed"
   },
   "outputs": [
    {
     "data": {
      "text/plain": [
       "0.9738916695117951"
      ]
     },
     "execution_count": 24,
     "metadata": {
      "tags": []
     },
     "output_type": "execute_result"
    }
   ],
   "source": [
    "np.mean(result.history['accuracy'])"
   ]
  },
  {
   "cell_type": "code",
   "execution_count": 14,
   "metadata": {
    "colab": {
     "base_uri": "https://localhost:8080/",
     "height": 282
    },
    "id": "DtHMy3QJSQEn",
    "outputId": "25857dbf-5d8e-4555-961f-234ae7ddaced"
   },
   "outputs": [
    {
     "data": {
      "text/plain": [
       "[<matplotlib.lines.Line2D at 0x7ff88a6e7190>]"
      ]
     },
     "execution_count": 14,
     "metadata": {
      "tags": []
     },
     "output_type": "execute_result"
    },
    {
     "data": {
      "image/png": "[encoded data removed]",
      "text/plain": [
       "<Figure size 432x288 with 1 Axes>"
      ]
     },
     "metadata": {
      "needs_background": "light",
      "tags": []
     },
     "output_type": "display_data"
    }
   ],
   "source": [
    "plt.plot(result.history['accuracy'])"
   ]
  },
  {
   "cell_type": "code",
   "execution_count": 15,
   "metadata": {
    "colab": {
     "base_uri": "https://localhost:8080/"
    },
    "id": "yYaahn-u7hzS",
    "outputId": "642afa27-8336-4913-d46d-85b39ad4c299"
   },
   "outputs": [
    {
     "data": {
      "text/plain": [
       "['loss', 'accuracy']"
      ]
     },
     "execution_count": 15,
     "metadata": {
      "tags": []
     },
     "output_type": "execute_result"
    }
   ],
   "source": [
    "model.metrics_names"
   ]
  },
  {
   "cell_type": "code",
   "execution_count": 16,
   "metadata": {
    "colab": {
     "base_uri": "https://localhost:8080/",
     "height": 265
    },
    "id": "J1v--WfdTQTF",
    "outputId": "5980dedd-a262-4a45-fd0b-e52b1a7775a1"
   },
   "outputs": [
    {
     "data": {
      "image/png": "[encoded data removed]",
      "text/plain": [
       "<Figure size 720x288 with 2 Axes>"
      ]
     },
     "metadata": {
      "needs_background": "light",
      "tags": []
     },
     "output_type": "display_data"
    }
   ],
   "source": [
    "plt.figure(figsize=(10,4))\n",
    "plt.subplot(1,2,1)\n",
    "\n",
    "plt.plot(result.history['accuracy'], label='train accuracy', color='red')\n",
    "plt.plot(result.history['val_accuracy'], label='validation accuracy', color='blue')\n",
    "plt.legend()\n",
    "\n",
    "plt.subplot(1,2,2)\n",
    "plt.plot(result.history['loss'], label='train loss', color='red')\n",
    "plt.plot(result.history['val_loss'], label='validation loss', color='blue')\n",
    "plt.legend()\n",
    "\n",
    "plt.show()"
   ]
  },
  {
   "cell_type": "code",
   "execution_count": 23,
   "metadata": {
    "id": "PFtMOMY1w4N1"
   },
   "outputs": [],
   "source": []
  }
 ],
 "metadata": {
  "accelerator": "GPU",
  "colab": {
   "collapsed_sections": [],
   "name": "Deep_learning_project.ipynb",
   "provenance": []
  },
  "kernelspec": {
   "display_name": "Python 3",
   "language": "python",
   "name": "python3"
  },
  "language_info": {
   "codemirror_mode": {
    "name": "ipython",
    "version": 3
   },
   "file_extension": ".py",
   "mimetype": "text/x-python",
   "name": "python",
   "nbconvert_exporter": "python",
   "pygments_lexer": "ipython3",
   "version": "3.8.8"
  }
 },
 "nbformat": 4,
 "nbformat_minor": 4
}
